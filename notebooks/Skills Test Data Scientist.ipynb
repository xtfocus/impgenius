{
 "cells": [
  {
   "cell_type": "markdown",
   "id": "2c97b2f8",
   "metadata": {},
   "source": [
    "This is my solution for the skill test"
   ]
  },
  {
   "cell_type": "code",
   "execution_count": 1,
   "id": "a96564fe",
   "metadata": {},
   "outputs": [
    {
     "data": {
      "text/markdown": [
       "Available dataset: \\\n",
       "       ['importer_normalized_data', 'main', 'ports']"
      ],
      "text/plain": [
       "<IPython.core.display.Markdown object>"
      ]
     },
     "metadata": {},
     "output_type": "display_data"
    }
   ],
   "source": [
    "import seaborn as sns\n",
    "import pandas as pd\n",
    "from matplotlib import pyplot as plt\n",
    "import os\n",
    "\n",
    "os.sys.path.append('./..')\n",
    "from utils.loadgenius import DataLoader\n",
    "from utils.pretty import pprint, plot_missing_values, plot_value_counts\n",
    "from utils.consignee_extract import parse_string_to_dict\n",
    "from utils.country_name_detect import get_model\n",
    "\n",
    "# Pointing the loader to the data loading instruction\n",
    "dl = DataLoader('./../catalog.yml')\n",
    "\n",
    "pprint(f\"\"\"Available dataset: \\\\\n",
    "       {dl.list_datasets()}\"\"\")"
   ]
  },
  {
   "cell_type": "code",
   "execution_count": 2,
   "id": "c7135ead",
   "metadata": {},
   "outputs": [
    {
     "name": "stdout",
     "output_type": "stream",
     "text": [
      "CPU times: user 19.7 s, sys: 654 ms, total: 20.3 s\n",
      "Wall time: 21.7 s\n"
     ]
    }
   ],
   "source": [
    "%%time\n",
    "# Loading in datasets\n",
    "ports = dl.load('ports').drop('Unnamed: 0', axis=1)\n",
    "main = dl.load('main').drop('Unnamed: 0', axis=1)\n",
    "importer = dl.load('importer_normalized_data').drop('Unnamed: 0', axis=1)"
   ]
  },
  {
   "cell_type": "markdown",
   "id": "1fee7a03",
   "metadata": {},
   "source": [
    "# Preprocess"
   ]
  },
  {
   "cell_type": "markdown",
   "id": "0b9e7269",
   "metadata": {},
   "source": [
    "# `importer_normalized_data.csv`: duplicated raw names"
   ]
  },
  {
   "cell_type": "code",
   "execution_count": 3,
   "id": "6c66c163",
   "metadata": {},
   "outputs": [
    {
     "data": {
      "text/markdown": [
       "Some raw names are duplicated"
      ],
      "text/plain": [
       "<IPython.core.display.Markdown object>"
      ]
     },
     "metadata": {},
     "output_type": "display_data"
    },
    {
     "data": {
      "text/plain": [
       "MASONITE LAWRENCEVILLE DFS         2\n",
       "ANATOLIA TILE & STONE, INC. 202    2\n",
       "MASONITE LAWRENCEVILLE             2\n",
       "SINTEX MINERALS                    2\n",
       "METSO MINERALS WAUKESHA            2\n",
       "Name: importer_raw_name, dtype: int64"
      ]
     },
     "metadata": {},
     "output_type": "display_data"
    }
   ],
   "source": [
    "pprint(\"Some raw names are duplicated\")\n",
    "report = importer[\"importer_raw_name\"].value_counts()\n",
    "display(report[report > 1])"
   ]
  },
  {
   "cell_type": "markdown",
   "id": "a2fd2f6b",
   "metadata": {},
   "source": [
    "Example:"
   ]
  },
  {
   "cell_type": "code",
   "execution_count": 4,
   "id": "7bf24e5e",
   "metadata": {},
   "outputs": [
    {
     "data": {
      "text/html": [
       "<div>\n",
       "<style scoped>\n",
       "    .dataframe tbody tr th:only-of-type {\n",
       "        vertical-align: middle;\n",
       "    }\n",
       "\n",
       "    .dataframe tbody tr th {\n",
       "        vertical-align: top;\n",
       "    }\n",
       "\n",
       "    .dataframe thead th {\n",
       "        text-align: right;\n",
       "    }\n",
       "</style>\n",
       "<table border=\"1\" class=\"dataframe\">\n",
       "  <thead>\n",
       "    <tr style=\"text-align: right;\">\n",
       "      <th></th>\n",
       "      <th>importer_rank</th>\n",
       "      <th>importer_raw_name</th>\n",
       "      <th>importer_deduped_name</th>\n",
       "    </tr>\n",
       "  </thead>\n",
       "  <tbody>\n",
       "    <tr>\n",
       "      <th>21480</th>\n",
       "      <td>3354</td>\n",
       "      <td>MASONITE LAWRENCEVILLE DFS</td>\n",
       "      <td>MASONITE CORP</td>\n",
       "    </tr>\n",
       "    <tr>\n",
       "      <th>46134</th>\n",
       "      <td>9981</td>\n",
       "      <td>MASONITE LAWRENCEVILLE DFS</td>\n",
       "      <td>MASONITE LAWRENCEVILLE DFS</td>\n",
       "    </tr>\n",
       "  </tbody>\n",
       "</table>\n",
       "</div>"
      ],
      "text/plain": [
       "       importer_rank           importer_raw_name       importer_deduped_name\n",
       "21480           3354  MASONITE LAWRENCEVILLE DFS               MASONITE CORP\n",
       "46134           9981  MASONITE LAWRENCEVILLE DFS  MASONITE LAWRENCEVILLE DFS"
      ]
     },
     "execution_count": 4,
     "metadata": {},
     "output_type": "execute_result"
    }
   ],
   "source": [
    "importer.query('importer_raw_name==\"MASONITE LAWRENCEVILLE DFS\"')"
   ]
  },
  {
   "cell_type": "markdown",
   "id": "dbde80b4",
   "metadata": {},
   "source": [
    "**Resolve:** Keep the row with highest rank "
   ]
  },
  {
   "cell_type": "code",
   "execution_count": 5,
   "id": "1fd738ef",
   "metadata": {},
   "outputs": [],
   "source": [
    "importer = importer.sort_values('importer_rank').drop_duplicates(subset=['importer_raw_name'], keep='first')"
   ]
  },
  {
   "cell_type": "markdown",
   "id": "bb413d3b",
   "metadata": {},
   "source": [
    "\n",
    "## `ports.csv`: remove duplicates"
   ]
  },
  {
   "cell_type": "code",
   "execution_count": 6,
   "id": "f395fb79",
   "metadata": {},
   "outputs": [
    {
     "name": "stdout",
     "output_type": "stream",
     "text": [
      "ports: Rows before 10927\n",
      "ports: Rows after de-duplicates 5726\n"
     ]
    }
   ],
   "source": [
    "print(\"ports: Rows before\", ports.shape[0])\n",
    "ports = (ports\n",
    "         .drop_duplicates()\n",
    "         .reset_index(drop=True)\n",
    "        )\n",
    "print(\"ports: Rows after de-duplicates\", ports.shape[0])"
   ]
  },
  {
   "cell_type": "markdown",
   "id": "8affe250",
   "metadata": {},
   "source": [
    "## `main.csv`: extract important fields & drop duplicates"
   ]
  },
  {
   "cell_type": "code",
   "execution_count": 7,
   "id": "083498ce",
   "metadata": {},
   "outputs": [
    {
     "name": "stdout",
     "output_type": "stream",
     "text": [
      "CPU times: user 32.7 s, sys: 5.29 s, total: 38 s\n",
      "Wall time: 41.3 s\n"
     ]
    }
   ],
   "source": [
    "%%time\n",
    "import multiprocessing as mp\n",
    "\n",
    "original_columns = main.columns\n",
    "\n",
    "with mp.Pool() as pool:\n",
    "    result = pool.map(parse_string_to_dict, main['consignee'])\n",
    "    \n",
    "main['extracted'] = result\n",
    "del(result)"
   ]
  },
  {
   "cell_type": "code",
   "execution_count": 8,
   "id": "4f65ff42",
   "metadata": {},
   "outputs": [
    {
     "data": {
      "text/markdown": [
       "Extraction success"
      ],
      "text/plain": [
       "<IPython.core.display.Markdown object>"
      ]
     },
     "metadata": {},
     "output_type": "display_data"
    }
   ],
   "source": [
    "# Double check if the extraction fails on any record\n",
    "if any(main['extracted'].isna()):\n",
    "    pprint(\"Extraction failed somewhere\")\n",
    "else:\n",
    "    pprint(\"Extraction success\")\n",
    "    "
   ]
  },
  {
   "cell_type": "markdown",
   "id": "19c20986",
   "metadata": {},
   "source": [
    "Extract further on `cleaned_address_breakdown`"
   ]
  },
  {
   "cell_type": "code",
   "execution_count": 9,
   "id": "1306eb83",
   "metadata": {},
   "outputs": [
    {
     "name": "stdout",
     "output_type": "stream",
     "text": [
      "CPU times: user 17.7 s, sys: 72.9 ms, total: 17.8 s\n",
      "Wall time: 18 s\n"
     ]
    }
   ],
   "source": [
    "%%time\n",
    "# Extract information in cleaned address\n",
    "address_bits = ['address_number',\n",
    "                 'country_name',\n",
    "                 'place_name',\n",
    "                 'state_name',\n",
    "                 'street_name',\n",
    "                 'street_name_post_type',\n",
    "                 'street_name_pre_directional',\n",
    "                 'street_name_pre_type',\n",
    "                 'zip_code']\n",
    "\n",
    "for bit in address_bits:\n",
    "    main[bit] = main['extracted'].apply(lambda x: x['cleaned_address_breakdown'].get(bit, '')).replace('', pd.NA)\n",
    "    print(f\"Processing {bit}\", end='\\r')\n",
    "    \n",
    "main['id'] = main['extracted'].apply(lambda x: x['id'])\n",
    "main['importer_raw_name'] = main['extracted'].apply(lambda x: x['name']).str.upper()"
   ]
  },
  {
   "cell_type": "markdown",
   "id": "26eb7968",
   "metadata": {},
   "source": [
    "Since we only care about names that exists in importer list:"
   ]
  },
  {
   "cell_type": "code",
   "execution_count": 15,
   "id": "51f38d53",
   "metadata": {},
   "outputs": [],
   "source": [
    "importer['importer_raw_name'] = importer['importer_raw_name'].str.upper()\n",
    "main = main.merge(importer, how='inner', on='importer_raw_name')"
   ]
  },
  {
   "cell_type": "markdown",
   "id": "993ca4ac",
   "metadata": {},
   "source": [
    "We want to check the number of nulls in each column:"
   ]
  },
  {
   "cell_type": "code",
   "execution_count": 17,
   "id": "d7f93f25",
   "metadata": {},
   "outputs": [
    {
     "data": {
      "image/png": "[encoded data removed]",
      "text/plain": [
       "<Figure size 1000x600 with 1 Axes>"
      ]
     },
     "metadata": {},
     "output_type": "display_data"
    }
   ],
   "source": [
    "plot_missing_values(main.drop([\"consignee\", \"extracted\"],\n",
    "                              axis=1),\n",
    "                    as_percentage=True\n",
    "                   )"
   ]
  },
  {
   "cell_type": "markdown",
   "id": "649d54e0",
   "metadata": {},
   "source": [
    "### Observation 1: missing counts\n",
    "`street_name_pre_type` and `street_name_pre_directional` have very high missing counts (approx 96% and 80% respectively)"
   ]
  },
  {
   "cell_type": "markdown",
   "id": "7afcc6dd",
   "metadata": {},
   "source": [
    "### Observation 3: Imperfection in the cleaning method:"
   ]
  },
  {
   "cell_type": "markdown",
   "id": "f158cfdd",
   "metadata": {},
   "source": [
    "`cleaned_address_breakdown` seems to be a result by another extraction procedure.\n",
    "This extraction is not perfect, as shown  in the graph of top 10 countries by frequencies in `main.csv`: sometimes it excludes STATES from UNITED STATES, yielding UNITED (which is a mistake)"
   ]
  },
  {
   "cell_type": "code",
   "execution_count": 18,
   "id": "1b056087",
   "metadata": {},
   "outputs": [
    {
     "data": {
      "image/png": "[encoded data removed]",
      "text/plain": [
       "<Figure size 640x480 with 1 Axes>"
      ]
     },
     "metadata": {},
     "output_type": "display_data"
    }
   ],
   "source": [
    "fig, ax = plt.subplots()\n",
    "main['country_name'].value_counts().head(20)[::-1].plot.barh(log=True, ax=ax);\n",
    "ax.set_title(\"Most popular consignee countries in main.csv. Log scale\")\n",
    "plt.show()"
   ]
  },
  {
   "cell_type": "code",
   "execution_count": 19,
   "id": "b6151439",
   "metadata": {},
   "outputs": [
    {
     "data": {
      "text/markdown": [
       "An example where UNITED STATES became UNITED after *cleaned*:"
      ],
      "text/plain": [
       "<IPython.core.display.Markdown object>"
      ]
     },
     "metadata": {},
     "output_type": "display_data"
    },
    {
     "data": {
      "text/markdown": [
       "{name=DAVID PEYSER SPORTSWEAR INC., address=90 SPENCE STREET, BAYSHORE, N.Y.11706, UNITED STATES., cleaned_address=90 SPENCE STREET, UNITED, cleaned_address_breakdown={address_number=90, country_name=UNITED, place_name=, state_name=, street_name=SPENCE, street_name_post_type=STREET, street_name_pre_directional=, street_name_pre_type=, zip_code=}, contact_name=, comm_number_qualifier=, comm_number=, id=9172da5f709b1914663d3b0e68f0243f}"
      ],
      "text/plain": [
       "<IPython.core.display.Markdown object>"
      ]
     },
     "metadata": {},
     "output_type": "display_data"
    }
   ],
   "source": [
    "pprint(\"An example where UNITED STATES became UNITED after *cleaned*:\")\n",
    "pprint(main[main['country_name']=='UNITED']['consignee'].iloc[9])"
   ]
  },
  {
   "cell_type": "markdown",
   "id": "7fef13b6",
   "metadata": {},
   "source": [
    "In addition, sometimes the state name or another territory name gets in the `country_name`: NY in NY USA for instance.\n",
    "\n",
    "Finally, synonyms were not handled at all: UNITED STATES, USA, US, USA US are the same thing.\n",
    "\n",
    "Imperfection of the extraction on the country name level is a strong reason to assume the same happening in lower levels.\n",
    "\n",
    "**How to fix that?** Use a better extraction method, such as Named Entity Recognition. For instance:"
   ]
  },
  {
   "cell_type": "markdown",
   "id": "10a15ced",
   "metadata": {},
   "source": [
    "#### Demo Named-Entity-Recognition"
   ]
  },
  {
   "cell_type": "code",
   "execution_count": 20,
   "id": "f1a5a8a6",
   "metadata": {},
   "outputs": [
    {
     "data": {
      "text/markdown": [
       "Showing an alternative way to extract country name:"
      ],
      "text/plain": [
       "<IPython.core.display.Markdown object>"
      ]
     },
     "metadata": {},
     "output_type": "display_data"
    },
    {
     "data": {
      "text/html": [
       "<span class=\"tex2jax_ignore\"><div class=\"entities\" style=\"line-height: 2.5; direction: ltr\">{name=BSN MEDICAL GMBH, address=400 OLMOS BLVD STE A HIDALGO TX 78557 \n",
       "<mark class=\"entity\" style=\"background: #ddd; padding: 0.45em 0.6em; margin: 0 0.25em; line-height: 1; border-radius: 0.35em;\">\n",
       "    US\n",
       "    <span style=\"font-size: 0.8em; font-weight: bold; line-height: 1; border-radius: 0.35em; vertical-align: middle; margin-left: 0.5rem\">UNITED_STATES</span>\n",
       "</mark>\n",
       ", cleaned_address=400 OLMOS BLVD, HIDALGO, TX 78557, \n",
       "<mark class=\"entity\" style=\"background: #ddd; padding: 0.45em 0.6em; margin: 0 0.25em; line-height: 1; border-radius: 0.35em;\">\n",
       "    USA\n",
       "    <span style=\"font-size: 0.8em; font-weight: bold; line-height: 1; border-radius: 0.35em; vertical-align: middle; margin-left: 0.5rem\">UNITED_STATES</span>\n",
       "</mark>\n",
       ", cleaned_address_breakdown={address_number=400, country_name=\n",
       "<mark class=\"entity\" style=\"background: #ddd; padding: 0.45em 0.6em; margin: 0 0.25em; line-height: 1; border-radius: 0.35em;\">\n",
       "    USA\n",
       "    <span style=\"font-size: 0.8em; font-weight: bold; line-height: 1; border-radius: 0.35em; vertical-align: middle; margin-left: 0.5rem\">UNITED_STATES</span>\n",
       "</mark>\n",
       ", place_name=HIDALGO, state_name=TX, street_name=OLMOS, street_name_post_type=BLVD, street_name_pre_directional=, street_name_pre_type=, zip_code=78557}, contact_name=, comm_number_qualifier=, comm_number=, id=54d5cf3a5f2e4467ec69ab0ddc6c80db}</div></span>"
      ],
      "text/plain": [
       "<IPython.core.display.HTML object>"
      ]
     },
     "metadata": {},
     "output_type": "display_data"
    },
    {
     "name": "stdout",
     "output_type": "stream",
     "text": [
      "====================\n"
     ]
    }
   ],
   "source": [
    "from spacy import displacy\n",
    "    \n",
    "nlp = get_model() # Retrieve an example NER model for country name detection\n",
    "\n",
    "# Get some example consignee strings\n",
    "samples_others = list(main[main['country_name'].str.lower().str.contains('serbia|taiwan') == True]['consignee'])[:2]\n",
    "samples_us = list(main[main['country_name'].str.lower().str.contains('usa|united state| us') == True]['consignee'])[:1]\n",
    "\n",
    "pprint(\"Showing an alternative way to extract country name:\")\n",
    "for example in samples_others + samples_us:\n",
    "    displacy.render(\n",
    "        nlp(example),\n",
    "        style='ent')\n",
    "    print(\"=\"*20)"
   ]
  },
  {
   "cell_type": "markdown",
   "id": "519d0329",
   "metadata": {},
   "source": [
    "In the example above, my model is able to detect both US and UNITED STATES as the synonyms for USA.\n",
    "\n",
    "Since developing such as model requires gathering  more country names and synonyms, I only show an example for a small number of countries as above."
   ]
  },
  {
   "cell_type": "markdown",
   "id": "769ac493",
   "metadata": {},
   "source": [
    "### Observation 2: duplicated rows"
   ]
  },
  {
   "cell_type": "markdown",
   "id": "92869560",
   "metadata": {},
   "source": [
    "Many rows are exactly the same. **Possible reasons:**\n",
    "- someone made a join with another duplicated dataframe ealier, resulting in duplicates in `main.csv`\n",
    "- there's a missing column, which can be a key by itself or part of a composite key."
   ]
  },
  {
   "cell_type": "code",
   "execution_count": 21,
   "id": "4bb9dc4a",
   "metadata": {},
   "outputs": [
    {
     "data": {
      "text/markdown": [
       "Example of duplicated rows"
      ],
      "text/plain": [
       "<IPython.core.display.Markdown object>"
      ]
     },
     "metadata": {},
     "output_type": "display_data"
    },
    {
     "data": {
      "text/html": [
       "<div>\n",
       "<style scoped>\n",
       "    .dataframe tbody tr th:only-of-type {\n",
       "        vertical-align: middle;\n",
       "    }\n",
       "\n",
       "    .dataframe tbody tr th {\n",
       "        vertical-align: top;\n",
       "    }\n",
       "\n",
       "    .dataframe thead th {\n",
       "        text-align: right;\n",
       "    }\n",
       "</style>\n",
       "<table border=\"1\" class=\"dataframe\">\n",
       "  <thead>\n",
       "    <tr style=\"text-align: right;\">\n",
       "      <th></th>\n",
       "      <th>consignee</th>\n",
       "      <th>calculated_teu</th>\n",
       "      <th>file_month</th>\n",
       "      <th>port_of_unlading</th>\n",
       "      <th>country_of_origin</th>\n",
       "      <th>hs_codes</th>\n",
       "    </tr>\n",
       "  </thead>\n",
       "  <tbody>\n",
       "    <tr>\n",
       "      <th>1189926</th>\n",
       "      <td>{name=DETROIT DIESEL PARTS DISTRIBUTION, address=CENTER 515 11TH STREET SE CANTON, OH 44707, cleaned_address=515 11TH STREET, CANTON, OH 44707, USA, cleaned_address_breakdown={address_number=515, country_name=USA, place_name=CANTON, state_name=OH, street_name=11TH, street_name_post_type=STREET, street_name_pre_directional=, street_name_pre_type=, zip_code=44707}, contact_name=, comm_number_qualifier=, comm_number=, id=857a923157f99f7c13920a7e563ae9b2}</td>\n",
       "      <td>2.0</td>\n",
       "      <td>10</td>\n",
       "      <td>1401</td>\n",
       "      <td>FRANCE</td>\n",
       "      <td>HS CODE 8708 0000</td>\n",
       "    </tr>\n",
       "    <tr>\n",
       "      <th>1199815</th>\n",
       "      <td>{name=DETROIT DIESEL PARTS DISTRIBUTION, address=CENTER 515 11TH STREET SE CANTON, OH 44707, cleaned_address=515 11TH STREET, CANTON, OH 44707, USA, cleaned_address_breakdown={address_number=515, country_name=USA, place_name=CANTON, state_name=OH, street_name=11TH, street_name_post_type=STREET, street_name_pre_directional=, street_name_pre_type=, zip_code=44707}, contact_name=, comm_number_qualifier=, comm_number=, id=857a923157f99f7c13920a7e563ae9b2}</td>\n",
       "      <td>2.0</td>\n",
       "      <td>10</td>\n",
       "      <td>1401</td>\n",
       "      <td>FRANCE</td>\n",
       "      <td>HS CODE 8708 0000</td>\n",
       "    </tr>\n",
       "    <tr>\n",
       "      <th>1199816</th>\n",
       "      <td>{name=DETROIT DIESEL PARTS DISTRIBUTION, address=CENTER 515 11TH STREET SE CANTON, OH 44707, cleaned_address=515 11TH STREET, CANTON, OH 44707, USA, cleaned_address_breakdown={address_number=515, country_name=USA, place_name=CANTON, state_name=OH, street_name=11TH, street_name_post_type=STREET, street_name_pre_directional=, street_name_pre_type=, zip_code=44707}, contact_name=, comm_number_qualifier=, comm_number=, id=857a923157f99f7c13920a7e563ae9b2}</td>\n",
       "      <td>2.0</td>\n",
       "      <td>10</td>\n",
       "      <td>1401</td>\n",
       "      <td>FRANCE</td>\n",
       "      <td>HS CODE 8708 0000</td>\n",
       "    </tr>\n",
       "  </tbody>\n",
       "</table>\n",
       "</div>"
      ],
      "text/plain": [
       "                                                                                                                                                                                                                                                                                                                                                                                                                                                                       consignee  \\\n",
       "1189926  {name=DETROIT DIESEL PARTS DISTRIBUTION, address=CENTER 515 11TH STREET SE CANTON, OH 44707, cleaned_address=515 11TH STREET, CANTON, OH 44707, USA, cleaned_address_breakdown={address_number=515, country_name=USA, place_name=CANTON, state_name=OH, street_name=11TH, street_name_post_type=STREET, street_name_pre_directional=, street_name_pre_type=, zip_code=44707}, contact_name=, comm_number_qualifier=, comm_number=, id=857a923157f99f7c13920a7e563ae9b2}   \n",
       "1199815  {name=DETROIT DIESEL PARTS DISTRIBUTION, address=CENTER 515 11TH STREET SE CANTON, OH 44707, cleaned_address=515 11TH STREET, CANTON, OH 44707, USA, cleaned_address_breakdown={address_number=515, country_name=USA, place_name=CANTON, state_name=OH, street_name=11TH, street_name_post_type=STREET, street_name_pre_directional=, street_name_pre_type=, zip_code=44707}, contact_name=, comm_number_qualifier=, comm_number=, id=857a923157f99f7c13920a7e563ae9b2}   \n",
       "1199816  {name=DETROIT DIESEL PARTS DISTRIBUTION, address=CENTER 515 11TH STREET SE CANTON, OH 44707, cleaned_address=515 11TH STREET, CANTON, OH 44707, USA, cleaned_address_breakdown={address_number=515, country_name=USA, place_name=CANTON, state_name=OH, street_name=11TH, street_name_post_type=STREET, street_name_pre_directional=, street_name_pre_type=, zip_code=44707}, contact_name=, comm_number_qualifier=, comm_number=, id=857a923157f99f7c13920a7e563ae9b2}   \n",
       "\n",
       "         calculated_teu  file_month  port_of_unlading country_of_origin  \\\n",
       "1189926             2.0          10              1401            FRANCE   \n",
       "1199815             2.0          10              1401            FRANCE   \n",
       "1199816             2.0          10              1401            FRANCE   \n",
       "\n",
       "                  hs_codes  \n",
       "1189926  HS CODE 8708 0000  \n",
       "1199815  HS CODE 8708 0000  \n",
       "1199816  HS CODE 8708 0000  "
      ]
     },
     "execution_count": 21,
     "metadata": {},
     "output_type": "execute_result"
    }
   ],
   "source": [
    "pd.set_option('display.max_colwidth', None)\n",
    "pprint(\"Example of duplicated rows\")\n",
    "(\n",
    "    main\n",
    "    .query('id==\"857a923157f99f7c13920a7e563ae9b2\" & hs_codes==\"HS CODE 8708 0000\" & file_month==10')\n",
    "    .sort_values('consignee')\n",
    "    .head(3)[original_columns]\n",
    ")"
   ]
  },
  {
   "cell_type": "markdown",
   "id": "7c835509",
   "metadata": {},
   "source": [
    "**Assuming this duplication is an error** (likely caused by join with duplicated data), I drop the duplicates:"
   ]
  },
  {
   "cell_type": "code",
   "execution_count": 22,
   "id": "26396cb1",
   "metadata": {},
   "outputs": [
    {
     "data": {
      "text/markdown": [
       "`main.csv`: Number of rows before = 1385308"
      ],
      "text/plain": [
       "<IPython.core.display.Markdown object>"
      ]
     },
     "metadata": {},
     "output_type": "display_data"
    },
    {
     "data": {
      "text/markdown": [
       "`main.csv`: Number of rows after drop_duplicates = 531578"
      ],
      "text/plain": [
       "<IPython.core.display.Markdown object>"
      ]
     },
     "metadata": {},
     "output_type": "display_data"
    },
    {
     "data": {
      "text/markdown": [
       "Drop rate = 62%"
      ],
      "text/plain": [
       "<IPython.core.display.Markdown object>"
      ]
     },
     "metadata": {},
     "output_type": "display_data"
    }
   ],
   "source": [
    "before = main.shape[0]\n",
    "pprint(f\"`main.csv`: Number of rows before = {before}\")\n",
    "main = main.drop_duplicates(subset=original_columns)\n",
    "pprint(f\"`main.csv`: Number of rows after drop_duplicates = {main.shape[0]}\")\n",
    "pprint(f\"Drop rate = {round(100*(1- main.shape[0]/before))}%\")"
   ]
  },
  {
   "cell_type": "markdown",
   "id": "1d63fa0b",
   "metadata": {},
   "source": [
    "### HS codes mapping\n",
    "\n",
    "In this subsection, I convert the first 6 digits in HS codes to their description.\n",
    "\n",
    "The first 6 digits tell the Subheadings of the product according to my [source](https://findrulesoforigin.org/en/glossary?uid=hs&returnto=faqscenter)\n",
    "\n",
    "Implementation details:\n",
    "\n",
    "- I used an opensource database [here](https://github.com/datasets/harmonized-system/tree/master) to lookup the hs codes\n",
    "- To speed-up, I search for **unique hs codes** before mapping, rather than mapping straight away"
   ]
  },
  {
   "cell_type": "code",
   "execution_count": 24,
   "id": "52337c86",
   "metadata": {},
   "outputs": [],
   "source": [
    "hs_table = pd.read_csv('https://raw.githubusercontent.com/datasets/harmonized-system/master/data/harmonized-system.csv', dtype='str')\n",
    "\n",
    "main['hs_codes_shorten'] = main['hs_codes'].str.replace(r'(\\D)', '', regex=True).apply(lambda x: x[:6])\n",
    "\n",
    "def query_hs_codes_desc(code, table):\n",
    "    result = table.query(\"hscode==@code\")['description']\n",
    "    if result.shape[0] == 0:\n",
    "        return None\n",
    "    else:\n",
    "        return list(result)[0]\n",
    "\n",
    "hs_mapping = main[['hs_codes_shorten']].drop_duplicates().reset_index(drop=True)\n",
    "hs_mapping['desc'] = hs_mapping['hs_codes_shorten'].apply(\n",
    "    lambda x: query_hs_codes_desc(x, hs_table)\n",
    ")\n",
    "\n",
    "hs_mapping = hs_mapping.set_index('hs_codes_shorten')['desc']\n",
    "hs_mapping = hs_mapping.to_dict()\n",
    "main['hs_codes_desc'] = main['hs_codes_shorten'].apply(lambda x: hs_mapping[x])"
   ]
  },
  {
   "cell_type": "code",
   "execution_count": 28,
   "id": "6a4c115b",
   "metadata": {},
   "outputs": [
    {
     "data": {
      "image/png": "[encoded data removed]",
      "text/plain": [
       "<Figure size 1000x600 with 1 Axes>"
      ]
     },
     "metadata": {},
     "output_type": "display_data"
    }
   ],
   "source": [
    "plot_missing_values(main[['hs_codes', \"hs_codes_desc\"]], as_percentage=True)"
   ]
  },
  {
   "cell_type": "markdown",
   "id": "6def9dbf",
   "metadata": {},
   "source": [
    "It shows that while every row has hs codes, about 11% don't have a know description according to my database (version 2022).\n",
    "\n",
    "It is possible that some data uses 2021 versions: HS CODE 9401 3000 for instance.\n",
    "\n",
    "Within the timeframe of this skill test, I simply ignore those data for now."
   ]
  },
  {
   "cell_type": "code",
   "execution_count": 34,
   "id": "8e061892",
   "metadata": {},
   "outputs": [
    {
     "data": {
      "text/markdown": [
       "Showing some unknown hs codes:"
      ],
      "text/plain": [
       "<IPython.core.display.Markdown object>"
      ]
     },
     "metadata": {},
     "output_type": "display_data"
    },
    {
     "data": {
      "text/html": [
       "<div>\n",
       "<style scoped>\n",
       "    .dataframe tbody tr th:only-of-type {\n",
       "        vertical-align: middle;\n",
       "    }\n",
       "\n",
       "    .dataframe tbody tr th {\n",
       "        vertical-align: top;\n",
       "    }\n",
       "\n",
       "    .dataframe thead th {\n",
       "        text-align: right;\n",
       "    }\n",
       "</style>\n",
       "<table border=\"1\" class=\"dataframe\">\n",
       "  <thead>\n",
       "    <tr style=\"text-align: right;\">\n",
       "      <th></th>\n",
       "      <th>hs_codes</th>\n",
       "    </tr>\n",
       "  </thead>\n",
       "  <tbody>\n",
       "    <tr>\n",
       "      <th>91471</th>\n",
       "      <td>HS CODE 0000 0000</td>\n",
       "    </tr>\n",
       "    <tr>\n",
       "      <th>872081</th>\n",
       "      <td>HS CODE 0000 0015</td>\n",
       "    </tr>\n",
       "    <tr>\n",
       "      <th>872082</th>\n",
       "      <td>HS CODE 0000 0018</td>\n",
       "    </tr>\n",
       "    <tr>\n",
       "      <th>547031</th>\n",
       "      <td>HS CODE 0000 0124</td>\n",
       "    </tr>\n",
       "    <tr>\n",
       "      <th>1176836</th>\n",
       "      <td>HS CODE 0000 0665</td>\n",
       "    </tr>\n",
       "    <tr>\n",
       "      <th>...</th>\n",
       "      <td>...</td>\n",
       "    </tr>\n",
       "    <tr>\n",
       "      <th>816787</th>\n",
       "      <td>HS CODE 9990 6300</td>\n",
       "    </tr>\n",
       "    <tr>\n",
       "      <th>165913</th>\n",
       "      <td>HS CODE 9990 7700</td>\n",
       "    </tr>\n",
       "    <tr>\n",
       "      <th>491994</th>\n",
       "      <td>HS CODE 9990 8700</td>\n",
       "    </tr>\n",
       "    <tr>\n",
       "      <th>344132</th>\n",
       "      <td>HS CODE 9990 8704</td>\n",
       "    </tr>\n",
       "    <tr>\n",
       "      <th>898050</th>\n",
       "      <td>HS CODE 9999 0000</td>\n",
       "    </tr>\n",
       "  </tbody>\n",
       "</table>\n",
       "<p>8692 rows × 1 columns</p>\n",
       "</div>"
      ],
      "text/plain": [
       "                  hs_codes\n",
       "91471    HS CODE 0000 0000\n",
       "872081   HS CODE 0000 0015\n",
       "872082   HS CODE 0000 0018\n",
       "547031   HS CODE 0000 0124\n",
       "1176836  HS CODE 0000 0665\n",
       "...                    ...\n",
       "816787   HS CODE 9990 6300\n",
       "165913   HS CODE 9990 7700\n",
       "491994   HS CODE 9990 8700\n",
       "344132   HS CODE 9990 8704\n",
       "898050   HS CODE 9999 0000\n",
       "\n",
       "[8692 rows x 1 columns]"
      ]
     },
     "execution_count": 34,
     "metadata": {},
     "output_type": "execute_result"
    }
   ],
   "source": [
    "pprint(\"Showing some unknown hs codes:\")\n",
    "main[main['hs_codes_desc'].isna()][['hs_codes']].drop_duplicates().sort_values('hs_codes')"
   ]
  },
  {
   "cell_type": "markdown",
   "id": "65576642",
   "metadata": {},
   "source": [
    "# Analytics plan\n",
    "\n",
    "To find out which company is worth investing, we care about the following things:\n",
    "- What they import\n",
    "- How frequent they import that product\n",
    "- How much (in teu) they import that product, compared to the norm\n",
    "- How diverse are their imports: Diversing but small company might be a redflag. A focused portfolio is always a good sign."
   ]
  },
  {
   "cell_type": "code",
   "execution_count": 108,
   "id": "cb0ecdcd",
   "metadata": {},
   "outputs": [],
   "source": [
    "importer_activity = (\n",
    "    main[['id', 'hs_codes', 'file_month', 'calculated_teu']]\n",
    "    .groupby(['id', 'hs_codes'])\n",
    "    .agg(\n",
    "        n_months=('file_month', 'nunique'), \n",
    "        sum_teu=('calculated_teu', 'sum')\n",
    "    ).reset_index()\n",
    ")"
   ]
  },
  {
   "cell_type": "code",
   "execution_count": 138,
   "id": "651d62a0",
   "metadata": {},
   "outputs": [],
   "source": [
    "importer_activity['best_streak'] = importer_activity.groupby('id')['n_months'].transform('max')\n",
    "importer_activity['worst_streak'] = importer_activity.groupby('id')['n_months'].transform('min')"
   ]
  },
  {
   "cell_type": "code",
   "execution_count": 155,
   "id": "5704641d",
   "metadata": {},
   "outputs": [
    {
     "data": {
      "text/markdown": [
       "Company activity: highest and lowest number of month per product"
      ],
      "text/plain": [
       "<IPython.core.display.Markdown object>"
      ]
     },
     "metadata": {},
     "output_type": "display_data"
    },
    {
     "data": {
      "image/png": "[encoded data removed]",
      "text/plain": [
       "<Figure size 640x480 with 2 Axes>"
      ]
     },
     "metadata": {},
     "output_type": "display_data"
    }
   ],
   "source": [
    "pprint(\"Company activity: highest and lowest number of month per product\")\n",
    "importer_activity[['best_streak', 'worst_streak']].hist(bins=6);"
   ]
  },
  {
   "cell_type": "markdown",
   "id": "38a60ca0",
   "metadata": {},
   "source": [
    "It shows that there is a big number of company that import the same hs codes monthly."
   ]
  },
  {
   "cell_type": "code",
   "execution_count": 139,
   "id": "5b1928f6",
   "metadata": {},
   "outputs": [],
   "source": [
    "importer_diverse = importer_activity.groupby('id').agg(diverse_hs=('hs_codes', 'nunique')).reset_index()\n",
    "importer_diverse = importer_diverse.merge(\n",
    "    importer_activity[['id', 'best_streak', 'worst_streak']].drop_duplicates(subset='id'),\n",
    "    on='id'\n",
    ")"
   ]
  },
  {
   "cell_type": "code",
   "execution_count": 140,
   "id": "ca1b6c3d",
   "metadata": {},
   "outputs": [
    {
     "data": {
      "image/png": "[encoded data removed]",
      "text/plain": [
       "<Figure size 640x480 with 1 Axes>"
      ]
     },
     "metadata": {},
     "output_type": "display_data"
    }
   ],
   "source": [
    "importer_diverse.query('diverse_hs < 50')['diverse_hs'].hist(bins=50)\n",
    "plt.title(\"Histogram : Number of unique hs_codes imported by each importer\");"
   ]
  },
  {
   "cell_type": "markdown",
   "id": "ce9de4b3",
   "metadata": {},
   "source": [
    "It shows that normally a company imports no more than 10 HS codes. The majority import 5 of less."
   ]
  },
  {
   "cell_type": "markdown",
   "id": "5e992443",
   "metadata": {},
   "source": [
    "We also want to see if the number of HS codes a company import may implies the level of sustainability:"
   ]
  },
  {
   "cell_type": "code",
   "execution_count": 149,
   "id": "352fae2b",
   "metadata": {
    "scrolled": false
   },
   "outputs": [
    {
     "data": {
      "text/plain": [
       "<Axes: xlabel='diverse_hs', ylabel='worst_streak'>"
      ]
     },
     "execution_count": 149,
     "metadata": {},
     "output_type": "execute_result"
    },
    {
     "data": {
      "image/png": "[encoded data removed]",
      "text/plain": [
       "<Figure size 640x480 with 2 Axes>"
      ]
     },
     "metadata": {},
     "output_type": "display_data"
    }
   ],
   "source": [
    "importer_diverse.query(\"diverse_hs <= 100\").plot.scatter(x='diverse_hs',\n",
    "                                                         c='best_streak',\n",
    "                                                         y= 'worst_streak',\n",
    "                                                         cmap='viridis',\n",
    "                                                         alpha=.5)"
   ]
  },
  {
   "cell_type": "markdown",
   "id": "600a5b2a",
   "metadata": {},
   "source": [
    "If we focus on the area where worst_streak is > 6 months, it seems that the dots are also lighter (indicating higher values of best_streak), and that the values of diverse_hs is also low.\n",
    "\n",
    "In case that Blume wanted to be very safe, worst_streak can be an important indicator. \n",
    "\n",
    "We definitely do not want to pay attention to company with low best_streak: It is highly unlikely that you import less than 4 month for something profitable."
   ]
  },
  {
   "cell_type": "markdown",
   "id": "63d31b0f",
   "metadata": {},
   "source": [
    "Also, we may want to think of this problem as predicting on company--product pair"
   ]
  },
  {
   "cell_type": "markdown",
   "id": "29cb3a18",
   "metadata": {},
   "source": [
    "# EDA"
   ]
  },
  {
   "cell_type": "markdown",
   "id": "47d73436",
   "metadata": {},
   "source": [
    "Sincek"
   ]
  },
  {
   "cell_type": "code",
   "execution_count": 97,
   "id": "2a56e85b",
   "metadata": {},
   "outputs": [],
   "source": [
    "\n",
    "import numpy as np"
   ]
  },
  {
   "cell_type": "code",
   "execution_count": 101,
   "id": "79a0288d",
   "metadata": {},
   "outputs": [
    {
     "data": {
      "text/plain": [
       "hs_codes\n",
       "HS CODE 3506 1087    116.0\n",
       "HS CODE 8507 2083    116.0\n",
       "HS CODE 8609 0030    100.0\n",
       "HS CODE 3929 6000     96.0\n",
       "HS CODE 8407 3482     92.0\n",
       "                     ...  \n",
       "HS CODE 8130 0000      0.0\n",
       "HS CODE 8482 1030      0.0\n",
       "HS CODE 5801 0000      0.0\n",
       "HS CODE 1159 0800      0.0\n",
       "HS CODE 7216 3010      0.0\n",
       "Name: calculated_teu, Length: 19157, dtype: float64"
      ]
     },
     "execution_count": 101,
     "metadata": {},
     "output_type": "execute_result"
    }
   ],
   "source": [
    "main.groupby('hs_codes')['calculated_teu'].apply(np.median).sort_values(ascending=False)"
   ]
  },
  {
   "cell_type": "code",
   "execution_count": 96,
   "id": "4a20b05d",
   "metadata": {},
   "outputs": [
    {
     "data": {
      "text/html": [
       "<div>\n",
       "<style scoped>\n",
       "    .dataframe tbody tr th:only-of-type {\n",
       "        vertical-align: middle;\n",
       "    }\n",
       "\n",
       "    .dataframe tbody tr th {\n",
       "        vertical-align: top;\n",
       "    }\n",
       "\n",
       "    .dataframe thead th {\n",
       "        text-align: right;\n",
       "    }\n",
       "</style>\n",
       "<table border=\"1\" class=\"dataframe\">\n",
       "  <thead>\n",
       "    <tr style=\"text-align: right;\">\n",
       "      <th></th>\n",
       "      <th>consignee</th>\n",
       "      <th>calculated_teu</th>\n",
       "      <th>file_month</th>\n",
       "      <th>port_of_unlading</th>\n",
       "      <th>country_of_origin</th>\n",
       "      <th>hs_codes</th>\n",
       "      <th>extracted</th>\n",
       "      <th>address_number</th>\n",
       "      <th>country_name</th>\n",
       "      <th>place_name</th>\n",
       "      <th>...</th>\n",
       "      <th>street_name_post_type</th>\n",
       "      <th>street_name_pre_directional</th>\n",
       "      <th>street_name_pre_type</th>\n",
       "      <th>zip_code</th>\n",
       "      <th>id</th>\n",
       "      <th>importer_raw_name</th>\n",
       "      <th>importer_rank</th>\n",
       "      <th>importer_deduped_name</th>\n",
       "      <th>hs_codes_shorten</th>\n",
       "      <th>hs_codes_desc</th>\n",
       "    </tr>\n",
       "  </thead>\n",
       "  <tbody>\n",
       "    <tr>\n",
       "      <th>0</th>\n",
       "      <td>{name=BSN MEDICAL GMBH, address=400 OLMOS BLVD STE A HIDALGO TX 78557 US, cleaned_address=400 OLMOS BLVD, HIDALGO, TX 78557, USA, cleaned_address_breakdown={address_number=400, country_name=USA, place_name=HIDALGO, state_name=TX, street_name=OLMOS, street_name_post_type=BLVD, street_name_pre_directional=, street_name_pre_type=, zip_code=78557}, contact_name=, comm_number_qualifier=, comm_number=, id=54d5cf3a5f2e4467ec69ab0ddc6c80db}</td>\n",
       "      <td>0.035356</td>\n",
       "      <td>1</td>\n",
       "      <td>5301</td>\n",
       "      <td>GERMANY</td>\n",
       "      <td>HS CODE 5806 2000</td>\n",
       "      <td>{'name': 'BSN MEDICAL GMBH', 'cleaned_address_breakdown': {'address_number': '400', 'country_name': 'USA', 'place_name': 'HIDALGO', 'state_name': 'TX', 'street_name': 'OLMOS', 'street_name_post_type': 'BLVD', 'street_name_pre_directional': '', 'street_name_pre_type': '', 'zip_code': '78557'}, 'id': '54d5cf3a5f2e4467ec69ab0ddc6c80db'}</td>\n",
       "      <td>400</td>\n",
       "      <td>USA</td>\n",
       "      <td>HIDALGO</td>\n",
       "      <td>...</td>\n",
       "      <td>BLVD</td>\n",
       "      <td>&lt;NA&gt;</td>\n",
       "      <td>&lt;NA&gt;</td>\n",
       "      <td>78557</td>\n",
       "      <td>54d5cf3a5f2e4467ec69ab0ddc6c80db</td>\n",
       "      <td>BSN MEDICAL GMBH</td>\n",
       "      <td>8267</td>\n",
       "      <td>BSN MEDICAL GMBH</td>\n",
       "      <td>580620</td>\n",
       "      <td>Fabrics; narrow (excluding pile fabrics), containing by weight 5% or more of elastomeric yarn or rubber thread</td>\n",
       "    </tr>\n",
       "    <tr>\n",
       "      <th>1</th>\n",
       "      <td>{name=BSN MEDICAL GMBH, address=400 OLMOS BLVD. STE A 78557 HIDALGO USA, cleaned_address=400 OLMOS BLVD, HIDALGO, USA, cleaned_address_breakdown={address_number=400, country_name=, place_name=HIDALGO, state_name=USA, street_name=OLMOS, street_name_post_type=BLVD, street_name_pre_directional=, street_name_pre_type=, zip_code=}, contact_name=, comm_number_qualifier=, comm_number=, id=54d5cf3a5f2e4467ec69ab0ddc6c80db}</td>\n",
       "      <td>2.000000</td>\n",
       "      <td>6</td>\n",
       "      <td>5301</td>\n",
       "      <td>IRELAND</td>\n",
       "      <td>HS CODE 7019 1910</td>\n",
       "      <td>{'name': 'BSN MEDICAL GMBH', 'cleaned_address_breakdown': {'address_number': '400', 'country_name': '', 'place_name': 'HIDALGO', 'state_name': 'USA', 'street_name': 'OLMOS', 'street_name_post_type': 'BLVD', 'street_name_pre_directional': '', 'street_name_pre_type': '', 'zip_code': ''}, 'id': '54d5cf3a5f2e4467ec69ab0ddc6c80db'}</td>\n",
       "      <td>400</td>\n",
       "      <td>&lt;NA&gt;</td>\n",
       "      <td>HIDALGO</td>\n",
       "      <td>...</td>\n",
       "      <td>BLVD</td>\n",
       "      <td>&lt;NA&gt;</td>\n",
       "      <td>&lt;NA&gt;</td>\n",
       "      <td>&lt;NA&gt;</td>\n",
       "      <td>54d5cf3a5f2e4467ec69ab0ddc6c80db</td>\n",
       "      <td>BSN MEDICAL GMBH</td>\n",
       "      <td>8267</td>\n",
       "      <td>BSN MEDICAL GMBH</td>\n",
       "      <td>701919</td>\n",
       "      <td>Glass fibres; (including glass wool), threads and mats, other than mechanically or chemically bonded mats</td>\n",
       "    </tr>\n",
       "    <tr>\n",
       "      <th>2</th>\n",
       "      <td>{name=BSN MEDICAL GMBH, address=400 OLMOS BLVD STE A HIDALGO TX 78557 US, cleaned_address=400 OLMOS BLVD, HIDALGO, TX 78557, USA, cleaned_address_breakdown={address_number=400, country_name=USA, place_name=HIDALGO, state_name=TX, street_name=OLMOS, street_name_post_type=BLVD, street_name_pre_directional=, street_name_pre_type=, zip_code=78557}, contact_name=, comm_number_qualifier=, comm_number=, id=54d5cf3a5f2e4467ec69ab0ddc6c80db}</td>\n",
       "      <td>0.104846</td>\n",
       "      <td>8</td>\n",
       "      <td>5301</td>\n",
       "      <td>GERMANY</td>\n",
       "      <td>HS CODE 5806 0000</td>\n",
       "      <td>{'name': 'BSN MEDICAL GMBH', 'cleaned_address_breakdown': {'address_number': '400', 'country_name': 'USA', 'place_name': 'HIDALGO', 'state_name': 'TX', 'street_name': 'OLMOS', 'street_name_post_type': 'BLVD', 'street_name_pre_directional': '', 'street_name_pre_type': '', 'zip_code': '78557'}, 'id': '54d5cf3a5f2e4467ec69ab0ddc6c80db'}</td>\n",
       "      <td>400</td>\n",
       "      <td>USA</td>\n",
       "      <td>HIDALGO</td>\n",
       "      <td>...</td>\n",
       "      <td>BLVD</td>\n",
       "      <td>&lt;NA&gt;</td>\n",
       "      <td>&lt;NA&gt;</td>\n",
       "      <td>78557</td>\n",
       "      <td>54d5cf3a5f2e4467ec69ab0ddc6c80db</td>\n",
       "      <td>BSN MEDICAL GMBH</td>\n",
       "      <td>8267</td>\n",
       "      <td>BSN MEDICAL GMBH</td>\n",
       "      <td>580600</td>\n",
       "      <td>None</td>\n",
       "    </tr>\n",
       "    <tr>\n",
       "      <th>3</th>\n",
       "      <td>{name=BSN MEDICAL GMBH, address=PO BOX 580 HIDALGO TX 78557 US, cleaned_address=, HIDALGO, TX 78557, USA, cleaned_address_breakdown={address_number=, country_name=USA, place_name=HIDALGO, state_name=TX, street_name=, street_name_post_type=, street_name_pre_directional=, street_name_pre_type=, zip_code=78557}, contact_name=, comm_number_qualifier=, comm_number=, id=54d5cf3a5f2e4467ec69ab0ddc6c80db}</td>\n",
       "      <td>1.000000</td>\n",
       "      <td>12</td>\n",
       "      <td>5301</td>\n",
       "      <td>SRI LANKA</td>\n",
       "      <td>HS CODE 5604 1000</td>\n",
       "      <td>{'name': 'BSN MEDICAL GMBH', 'cleaned_address_breakdown': {'address_number': '', 'country_name': 'USA', 'place_name': 'HIDALGO', 'state_name': 'TX', 'street_name': '', 'street_name_post_type': '', 'street_name_pre_directional': '', 'street_name_pre_type': '', 'zip_code': '78557'}, 'id': '54d5cf3a5f2e4467ec69ab0ddc6c80db'}</td>\n",
       "      <td>&lt;NA&gt;</td>\n",
       "      <td>USA</td>\n",
       "      <td>HIDALGO</td>\n",
       "      <td>...</td>\n",
       "      <td>&lt;NA&gt;</td>\n",
       "      <td>&lt;NA&gt;</td>\n",
       "      <td>&lt;NA&gt;</td>\n",
       "      <td>78557</td>\n",
       "      <td>54d5cf3a5f2e4467ec69ab0ddc6c80db</td>\n",
       "      <td>BSN MEDICAL GMBH</td>\n",
       "      <td>8267</td>\n",
       "      <td>BSN MEDICAL GMBH</td>\n",
       "      <td>560410</td>\n",
       "      <td>Rubber thread and cord; textile covered</td>\n",
       "    </tr>\n",
       "    <tr>\n",
       "      <th>4</th>\n",
       "      <td>{name=BSN MEDICAL GMBH, address=400 OLMOS BLVD STE A HIDALGO TX 78557 US, cleaned_address=400 OLMOS BLVD, HIDALGO, TX 78557, USA, cleaned_address_breakdown={address_number=400, country_name=USA, place_name=HIDALGO, state_name=TX, street_name=OLMOS, street_name_post_type=BLVD, street_name_pre_directional=, street_name_pre_type=, zip_code=78557}, contact_name=, comm_number_qualifier=, comm_number=, id=54d5cf3a5f2e4467ec69ab0ddc6c80db}</td>\n",
       "      <td>0.128690</td>\n",
       "      <td>3</td>\n",
       "      <td>5301</td>\n",
       "      <td>GERMANY</td>\n",
       "      <td>HS CODE 5806 2000</td>\n",
       "      <td>{'name': 'BSN MEDICAL GMBH', 'cleaned_address_breakdown': {'address_number': '400', 'country_name': 'USA', 'place_name': 'HIDALGO', 'state_name': 'TX', 'street_name': 'OLMOS', 'street_name_post_type': 'BLVD', 'street_name_pre_directional': '', 'street_name_pre_type': '', 'zip_code': '78557'}, 'id': '54d5cf3a5f2e4467ec69ab0ddc6c80db'}</td>\n",
       "      <td>400</td>\n",
       "      <td>USA</td>\n",
       "      <td>HIDALGO</td>\n",
       "      <td>...</td>\n",
       "      <td>BLVD</td>\n",
       "      <td>&lt;NA&gt;</td>\n",
       "      <td>&lt;NA&gt;</td>\n",
       "      <td>78557</td>\n",
       "      <td>54d5cf3a5f2e4467ec69ab0ddc6c80db</td>\n",
       "      <td>BSN MEDICAL GMBH</td>\n",
       "      <td>8267</td>\n",
       "      <td>BSN MEDICAL GMBH</td>\n",
       "      <td>580620</td>\n",
       "      <td>Fabrics; narrow (excluding pile fabrics), containing by weight 5% or more of elastomeric yarn or rubber thread</td>\n",
       "    </tr>\n",
       "    <tr>\n",
       "      <th>5</th>\n",
       "      <td>{name=BSN MEDICAL GMBH, address=400 OLMOS BLVD STE A HIDALGO TX 78557 US, cleaned_address=400 OLMOS BLVD, HIDALGO, TX 78557, USA, cleaned_address_breakdown={address_number=400, country_name=USA, place_name=HIDALGO, state_name=TX, street_name=OLMOS, street_name_post_type=BLVD, street_name_pre_directional=, street_name_pre_type=, zip_code=78557}, contact_name=, comm_number_qualifier=, comm_number=, id=54d5cf3a5f2e4467ec69ab0ddc6c80db}</td>\n",
       "      <td>0.065511</td>\n",
       "      <td>4</td>\n",
       "      <td>5301</td>\n",
       "      <td>GERMANY</td>\n",
       "      <td>HS CODE 5806 2000</td>\n",
       "      <td>{'name': 'BSN MEDICAL GMBH', 'cleaned_address_breakdown': {'address_number': '400', 'country_name': 'USA', 'place_name': 'HIDALGO', 'state_name': 'TX', 'street_name': 'OLMOS', 'street_name_post_type': 'BLVD', 'street_name_pre_directional': '', 'street_name_pre_type': '', 'zip_code': '78557'}, 'id': '54d5cf3a5f2e4467ec69ab0ddc6c80db'}</td>\n",
       "      <td>400</td>\n",
       "      <td>USA</td>\n",
       "      <td>HIDALGO</td>\n",
       "      <td>...</td>\n",
       "      <td>BLVD</td>\n",
       "      <td>&lt;NA&gt;</td>\n",
       "      <td>&lt;NA&gt;</td>\n",
       "      <td>78557</td>\n",
       "      <td>54d5cf3a5f2e4467ec69ab0ddc6c80db</td>\n",
       "      <td>BSN MEDICAL GMBH</td>\n",
       "      <td>8267</td>\n",
       "      <td>BSN MEDICAL GMBH</td>\n",
       "      <td>580620</td>\n",
       "      <td>Fabrics; narrow (excluding pile fabrics), containing by weight 5% or more of elastomeric yarn or rubber thread</td>\n",
       "    </tr>\n",
       "    <tr>\n",
       "      <th>6</th>\n",
       "      <td>{name=BSN MEDICAL GMBH, address=PO BOX 580 HIDALGO TX 78557 US, cleaned_address=, HIDALGO, TX 78557, USA, cleaned_address_breakdown={address_number=, country_name=USA, place_name=HIDALGO, state_name=TX, street_name=, street_name_post_type=, street_name_pre_directional=, street_name_pre_type=, zip_code=78557}, contact_name=, comm_number_qualifier=, comm_number=, id=54d5cf3a5f2e4467ec69ab0ddc6c80db}</td>\n",
       "      <td>2.000000</td>\n",
       "      <td>5</td>\n",
       "      <td>5301</td>\n",
       "      <td>SRI LANKA</td>\n",
       "      <td>HS CODE 5604 1000</td>\n",
       "      <td>{'name': 'BSN MEDICAL GMBH', 'cleaned_address_breakdown': {'address_number': '', 'country_name': 'USA', 'place_name': 'HIDALGO', 'state_name': 'TX', 'street_name': '', 'street_name_post_type': '', 'street_name_pre_directional': '', 'street_name_pre_type': '', 'zip_code': '78557'}, 'id': '54d5cf3a5f2e4467ec69ab0ddc6c80db'}</td>\n",
       "      <td>&lt;NA&gt;</td>\n",
       "      <td>USA</td>\n",
       "      <td>HIDALGO</td>\n",
       "      <td>...</td>\n",
       "      <td>&lt;NA&gt;</td>\n",
       "      <td>&lt;NA&gt;</td>\n",
       "      <td>&lt;NA&gt;</td>\n",
       "      <td>78557</td>\n",
       "      <td>54d5cf3a5f2e4467ec69ab0ddc6c80db</td>\n",
       "      <td>BSN MEDICAL GMBH</td>\n",
       "      <td>8267</td>\n",
       "      <td>BSN MEDICAL GMBH</td>\n",
       "      <td>560410</td>\n",
       "      <td>Rubber thread and cord; textile covered</td>\n",
       "    </tr>\n",
       "    <tr>\n",
       "      <th>7</th>\n",
       "      <td>{name=BSN MEDICAL GMBH, address=PO BOX 580 HIDALGO TX 78557 US, cleaned_address=, HIDALGO, TX 78557, USA, cleaned_address_breakdown={address_number=, country_name=USA, place_name=HIDALGO, state_name=TX, street_name=, street_name_post_type=, street_name_pre_directional=, street_name_pre_type=, zip_code=78557}, contact_name=, comm_number_qualifier=, comm_number=, id=54d5cf3a5f2e4467ec69ab0ddc6c80db}</td>\n",
       "      <td>1.000000</td>\n",
       "      <td>2</td>\n",
       "      <td>5301</td>\n",
       "      <td>SRI LANKA</td>\n",
       "      <td>HS CODE 5604 1000</td>\n",
       "      <td>{'name': 'BSN MEDICAL GMBH', 'cleaned_address_breakdown': {'address_number': '', 'country_name': 'USA', 'place_name': 'HIDALGO', 'state_name': 'TX', 'street_name': '', 'street_name_post_type': '', 'street_name_pre_directional': '', 'street_name_pre_type': '', 'zip_code': '78557'}, 'id': '54d5cf3a5f2e4467ec69ab0ddc6c80db'}</td>\n",
       "      <td>&lt;NA&gt;</td>\n",
       "      <td>USA</td>\n",
       "      <td>HIDALGO</td>\n",
       "      <td>...</td>\n",
       "      <td>&lt;NA&gt;</td>\n",
       "      <td>&lt;NA&gt;</td>\n",
       "      <td>&lt;NA&gt;</td>\n",
       "      <td>78557</td>\n",
       "      <td>54d5cf3a5f2e4467ec69ab0ddc6c80db</td>\n",
       "      <td>BSN MEDICAL GMBH</td>\n",
       "      <td>8267</td>\n",
       "      <td>BSN MEDICAL GMBH</td>\n",
       "      <td>560410</td>\n",
       "      <td>Rubber thread and cord; textile covered</td>\n",
       "    </tr>\n",
       "    <tr>\n",
       "      <th>8</th>\n",
       "      <td>{name=BSN MEDICAL GMBH, address=400 OLMOS BLVD STE A HIDALGO TX 78557 US, cleaned_address=400 OLMOS BLVD, HIDALGO, TX 78557, USA, cleaned_address_breakdown={address_number=400, country_name=USA, place_name=HIDALGO, state_name=TX, street_name=OLMOS, street_name_post_type=BLVD, street_name_pre_directional=, street_name_pre_type=, zip_code=78557}, contact_name=, comm_number_qualifier=, comm_number=, id=54d5cf3a5f2e4467ec69ab0ddc6c80db}</td>\n",
       "      <td>0.141220</td>\n",
       "      <td>7</td>\n",
       "      <td>5301</td>\n",
       "      <td>GERMANY</td>\n",
       "      <td>HS CODE 5806 2000</td>\n",
       "      <td>{'name': 'BSN MEDICAL GMBH', 'cleaned_address_breakdown': {'address_number': '400', 'country_name': 'USA', 'place_name': 'HIDALGO', 'state_name': 'TX', 'street_name': 'OLMOS', 'street_name_post_type': 'BLVD', 'street_name_pre_directional': '', 'street_name_pre_type': '', 'zip_code': '78557'}, 'id': '54d5cf3a5f2e4467ec69ab0ddc6c80db'}</td>\n",
       "      <td>400</td>\n",
       "      <td>USA</td>\n",
       "      <td>HIDALGO</td>\n",
       "      <td>...</td>\n",
       "      <td>BLVD</td>\n",
       "      <td>&lt;NA&gt;</td>\n",
       "      <td>&lt;NA&gt;</td>\n",
       "      <td>78557</td>\n",
       "      <td>54d5cf3a5f2e4467ec69ab0ddc6c80db</td>\n",
       "      <td>BSN MEDICAL GMBH</td>\n",
       "      <td>8267</td>\n",
       "      <td>BSN MEDICAL GMBH</td>\n",
       "      <td>580620</td>\n",
       "      <td>Fabrics; narrow (excluding pile fabrics), containing by weight 5% or more of elastomeric yarn or rubber thread</td>\n",
       "    </tr>\n",
       "    <tr>\n",
       "      <th>9</th>\n",
       "      <td>{name=BSN MEDICAL GMBH,, address=400 OLMOS BLVD. STE A, 78557 HIDALGO, cleaned_address=400 OLMOS BLVD, HIDALGO, cleaned_address_breakdown={address_number=400, country_name=, place_name=HIDALGO, state_name=, street_name=OLMOS, street_name_post_type=BLVD, street_name_pre_directional=, street_name_pre_type=, zip_code=}, contact_name=, comm_number_qualifier=, comm_number=, id=681df9b96d70410abc7c71f9297fdf8a}</td>\n",
       "      <td>2.000000</td>\n",
       "      <td>7</td>\n",
       "      <td>5301</td>\n",
       "      <td>IRELAND</td>\n",
       "      <td>HS CODE 7019 1910</td>\n",
       "      <td>{'name': 'BSN MEDICAL GMBH', 'cleaned_address_breakdown': {'address_number': '400', 'country_name': '', 'place_name': 'HIDALGO', 'state_name': '', 'street_name': 'OLMOS', 'street_name_post_type': 'BLVD', 'street_name_pre_directional': '', 'street_name_pre_type': '', 'zip_code': ''}, 'id': '681df9b96d70410abc7c71f9297fdf8a'}</td>\n",
       "      <td>400</td>\n",
       "      <td>&lt;NA&gt;</td>\n",
       "      <td>HIDALGO</td>\n",
       "      <td>...</td>\n",
       "      <td>BLVD</td>\n",
       "      <td>&lt;NA&gt;</td>\n",
       "      <td>&lt;NA&gt;</td>\n",
       "      <td>&lt;NA&gt;</td>\n",
       "      <td>681df9b96d70410abc7c71f9297fdf8a</td>\n",
       "      <td>BSN MEDICAL GMBH</td>\n",
       "      <td>8267</td>\n",
       "      <td>BSN MEDICAL GMBH</td>\n",
       "      <td>701919</td>\n",
       "      <td>Glass fibres; (including glass wool), threads and mats, other than mechanically or chemically bonded mats</td>\n",
       "    </tr>\n",
       "  </tbody>\n",
       "</table>\n",
       "<p>10 rows × 22 columns</p>\n",
       "</div>"
      ],
      "text/plain": [
       "                                                                                                                                                                                                                                                                                                                                                                                                                                              consignee  \\\n",
       "0  {name=BSN MEDICAL GMBH, address=400 OLMOS BLVD STE A HIDALGO TX 78557 US, cleaned_address=400 OLMOS BLVD, HIDALGO, TX 78557, USA, cleaned_address_breakdown={address_number=400, country_name=USA, place_name=HIDALGO, state_name=TX, street_name=OLMOS, street_name_post_type=BLVD, street_name_pre_directional=, street_name_pre_type=, zip_code=78557}, contact_name=, comm_number_qualifier=, comm_number=, id=54d5cf3a5f2e4467ec69ab0ddc6c80db}   \n",
       "1                    {name=BSN MEDICAL GMBH, address=400 OLMOS BLVD. STE A 78557 HIDALGO USA, cleaned_address=400 OLMOS BLVD, HIDALGO, USA, cleaned_address_breakdown={address_number=400, country_name=, place_name=HIDALGO, state_name=USA, street_name=OLMOS, street_name_post_type=BLVD, street_name_pre_directional=, street_name_pre_type=, zip_code=}, contact_name=, comm_number_qualifier=, comm_number=, id=54d5cf3a5f2e4467ec69ab0ddc6c80db}   \n",
       "2  {name=BSN MEDICAL GMBH, address=400 OLMOS BLVD STE A HIDALGO TX 78557 US, cleaned_address=400 OLMOS BLVD, HIDALGO, TX 78557, USA, cleaned_address_breakdown={address_number=400, country_name=USA, place_name=HIDALGO, state_name=TX, street_name=OLMOS, street_name_post_type=BLVD, street_name_pre_directional=, street_name_pre_type=, zip_code=78557}, contact_name=, comm_number_qualifier=, comm_number=, id=54d5cf3a5f2e4467ec69ab0ddc6c80db}   \n",
       "3                                      {name=BSN MEDICAL GMBH, address=PO BOX 580 HIDALGO TX 78557 US, cleaned_address=, HIDALGO, TX 78557, USA, cleaned_address_breakdown={address_number=, country_name=USA, place_name=HIDALGO, state_name=TX, street_name=, street_name_post_type=, street_name_pre_directional=, street_name_pre_type=, zip_code=78557}, contact_name=, comm_number_qualifier=, comm_number=, id=54d5cf3a5f2e4467ec69ab0ddc6c80db}   \n",
       "4  {name=BSN MEDICAL GMBH, address=400 OLMOS BLVD STE A HIDALGO TX 78557 US, cleaned_address=400 OLMOS BLVD, HIDALGO, TX 78557, USA, cleaned_address_breakdown={address_number=400, country_name=USA, place_name=HIDALGO, state_name=TX, street_name=OLMOS, street_name_post_type=BLVD, street_name_pre_directional=, street_name_pre_type=, zip_code=78557}, contact_name=, comm_number_qualifier=, comm_number=, id=54d5cf3a5f2e4467ec69ab0ddc6c80db}   \n",
       "5  {name=BSN MEDICAL GMBH, address=400 OLMOS BLVD STE A HIDALGO TX 78557 US, cleaned_address=400 OLMOS BLVD, HIDALGO, TX 78557, USA, cleaned_address_breakdown={address_number=400, country_name=USA, place_name=HIDALGO, state_name=TX, street_name=OLMOS, street_name_post_type=BLVD, street_name_pre_directional=, street_name_pre_type=, zip_code=78557}, contact_name=, comm_number_qualifier=, comm_number=, id=54d5cf3a5f2e4467ec69ab0ddc6c80db}   \n",
       "6                                      {name=BSN MEDICAL GMBH, address=PO BOX 580 HIDALGO TX 78557 US, cleaned_address=, HIDALGO, TX 78557, USA, cleaned_address_breakdown={address_number=, country_name=USA, place_name=HIDALGO, state_name=TX, street_name=, street_name_post_type=, street_name_pre_directional=, street_name_pre_type=, zip_code=78557}, contact_name=, comm_number_qualifier=, comm_number=, id=54d5cf3a5f2e4467ec69ab0ddc6c80db}   \n",
       "7                                      {name=BSN MEDICAL GMBH, address=PO BOX 580 HIDALGO TX 78557 US, cleaned_address=, HIDALGO, TX 78557, USA, cleaned_address_breakdown={address_number=, country_name=USA, place_name=HIDALGO, state_name=TX, street_name=, street_name_post_type=, street_name_pre_directional=, street_name_pre_type=, zip_code=78557}, contact_name=, comm_number_qualifier=, comm_number=, id=54d5cf3a5f2e4467ec69ab0ddc6c80db}   \n",
       "8  {name=BSN MEDICAL GMBH, address=400 OLMOS BLVD STE A HIDALGO TX 78557 US, cleaned_address=400 OLMOS BLVD, HIDALGO, TX 78557, USA, cleaned_address_breakdown={address_number=400, country_name=USA, place_name=HIDALGO, state_name=TX, street_name=OLMOS, street_name_post_type=BLVD, street_name_pre_directional=, street_name_pre_type=, zip_code=78557}, contact_name=, comm_number_qualifier=, comm_number=, id=54d5cf3a5f2e4467ec69ab0ddc6c80db}   \n",
       "9                              {name=BSN MEDICAL GMBH,, address=400 OLMOS BLVD. STE A, 78557 HIDALGO, cleaned_address=400 OLMOS BLVD, HIDALGO, cleaned_address_breakdown={address_number=400, country_name=, place_name=HIDALGO, state_name=, street_name=OLMOS, street_name_post_type=BLVD, street_name_pre_directional=, street_name_pre_type=, zip_code=}, contact_name=, comm_number_qualifier=, comm_number=, id=681df9b96d70410abc7c71f9297fdf8a}   \n",
       "\n",
       "   calculated_teu  file_month  port_of_unlading country_of_origin  \\\n",
       "0        0.035356           1              5301           GERMANY   \n",
       "1        2.000000           6              5301           IRELAND   \n",
       "2        0.104846           8              5301           GERMANY   \n",
       "3        1.000000          12              5301         SRI LANKA   \n",
       "4        0.128690           3              5301           GERMANY   \n",
       "5        0.065511           4              5301           GERMANY   \n",
       "6        2.000000           5              5301         SRI LANKA   \n",
       "7        1.000000           2              5301         SRI LANKA   \n",
       "8        0.141220           7              5301           GERMANY   \n",
       "9        2.000000           7              5301           IRELAND   \n",
       "\n",
       "            hs_codes  \\\n",
       "0  HS CODE 5806 2000   \n",
       "1  HS CODE 7019 1910   \n",
       "2  HS CODE 5806 0000   \n",
       "3  HS CODE 5604 1000   \n",
       "4  HS CODE 5806 2000   \n",
       "5  HS CODE 5806 2000   \n",
       "6  HS CODE 5604 1000   \n",
       "7  HS CODE 5604 1000   \n",
       "8  HS CODE 5806 2000   \n",
       "9  HS CODE 7019 1910   \n",
       "\n",
       "                                                                                                                                                                                                                                                                                                                                         extracted  \\\n",
       "0  {'name': 'BSN MEDICAL GMBH', 'cleaned_address_breakdown': {'address_number': '400', 'country_name': 'USA', 'place_name': 'HIDALGO', 'state_name': 'TX', 'street_name': 'OLMOS', 'street_name_post_type': 'BLVD', 'street_name_pre_directional': '', 'street_name_pre_type': '', 'zip_code': '78557'}, 'id': '54d5cf3a5f2e4467ec69ab0ddc6c80db'}   \n",
       "1         {'name': 'BSN MEDICAL GMBH', 'cleaned_address_breakdown': {'address_number': '400', 'country_name': '', 'place_name': 'HIDALGO', 'state_name': 'USA', 'street_name': 'OLMOS', 'street_name_post_type': 'BLVD', 'street_name_pre_directional': '', 'street_name_pre_type': '', 'zip_code': ''}, 'id': '54d5cf3a5f2e4467ec69ab0ddc6c80db'}   \n",
       "2  {'name': 'BSN MEDICAL GMBH', 'cleaned_address_breakdown': {'address_number': '400', 'country_name': 'USA', 'place_name': 'HIDALGO', 'state_name': 'TX', 'street_name': 'OLMOS', 'street_name_post_type': 'BLVD', 'street_name_pre_directional': '', 'street_name_pre_type': '', 'zip_code': '78557'}, 'id': '54d5cf3a5f2e4467ec69ab0ddc6c80db'}   \n",
       "3              {'name': 'BSN MEDICAL GMBH', 'cleaned_address_breakdown': {'address_number': '', 'country_name': 'USA', 'place_name': 'HIDALGO', 'state_name': 'TX', 'street_name': '', 'street_name_post_type': '', 'street_name_pre_directional': '', 'street_name_pre_type': '', 'zip_code': '78557'}, 'id': '54d5cf3a5f2e4467ec69ab0ddc6c80db'}   \n",
       "4  {'name': 'BSN MEDICAL GMBH', 'cleaned_address_breakdown': {'address_number': '400', 'country_name': 'USA', 'place_name': 'HIDALGO', 'state_name': 'TX', 'street_name': 'OLMOS', 'street_name_post_type': 'BLVD', 'street_name_pre_directional': '', 'street_name_pre_type': '', 'zip_code': '78557'}, 'id': '54d5cf3a5f2e4467ec69ab0ddc6c80db'}   \n",
       "5  {'name': 'BSN MEDICAL GMBH', 'cleaned_address_breakdown': {'address_number': '400', 'country_name': 'USA', 'place_name': 'HIDALGO', 'state_name': 'TX', 'street_name': 'OLMOS', 'street_name_post_type': 'BLVD', 'street_name_pre_directional': '', 'street_name_pre_type': '', 'zip_code': '78557'}, 'id': '54d5cf3a5f2e4467ec69ab0ddc6c80db'}   \n",
       "6              {'name': 'BSN MEDICAL GMBH', 'cleaned_address_breakdown': {'address_number': '', 'country_name': 'USA', 'place_name': 'HIDALGO', 'state_name': 'TX', 'street_name': '', 'street_name_post_type': '', 'street_name_pre_directional': '', 'street_name_pre_type': '', 'zip_code': '78557'}, 'id': '54d5cf3a5f2e4467ec69ab0ddc6c80db'}   \n",
       "7              {'name': 'BSN MEDICAL GMBH', 'cleaned_address_breakdown': {'address_number': '', 'country_name': 'USA', 'place_name': 'HIDALGO', 'state_name': 'TX', 'street_name': '', 'street_name_post_type': '', 'street_name_pre_directional': '', 'street_name_pre_type': '', 'zip_code': '78557'}, 'id': '54d5cf3a5f2e4467ec69ab0ddc6c80db'}   \n",
       "8  {'name': 'BSN MEDICAL GMBH', 'cleaned_address_breakdown': {'address_number': '400', 'country_name': 'USA', 'place_name': 'HIDALGO', 'state_name': 'TX', 'street_name': 'OLMOS', 'street_name_post_type': 'BLVD', 'street_name_pre_directional': '', 'street_name_pre_type': '', 'zip_code': '78557'}, 'id': '54d5cf3a5f2e4467ec69ab0ddc6c80db'}   \n",
       "9            {'name': 'BSN MEDICAL GMBH', 'cleaned_address_breakdown': {'address_number': '400', 'country_name': '', 'place_name': 'HIDALGO', 'state_name': '', 'street_name': 'OLMOS', 'street_name_post_type': 'BLVD', 'street_name_pre_directional': '', 'street_name_pre_type': '', 'zip_code': ''}, 'id': '681df9b96d70410abc7c71f9297fdf8a'}   \n",
       "\n",
       "  address_number country_name place_name  ... street_name_post_type  \\\n",
       "0            400          USA    HIDALGO  ...                  BLVD   \n",
       "1            400         <NA>    HIDALGO  ...                  BLVD   \n",
       "2            400          USA    HIDALGO  ...                  BLVD   \n",
       "3           <NA>          USA    HIDALGO  ...                  <NA>   \n",
       "4            400          USA    HIDALGO  ...                  BLVD   \n",
       "5            400          USA    HIDALGO  ...                  BLVD   \n",
       "6           <NA>          USA    HIDALGO  ...                  <NA>   \n",
       "7           <NA>          USA    HIDALGO  ...                  <NA>   \n",
       "8            400          USA    HIDALGO  ...                  BLVD   \n",
       "9            400         <NA>    HIDALGO  ...                  BLVD   \n",
       "\n",
       "  street_name_pre_directional street_name_pre_type zip_code  \\\n",
       "0                        <NA>                 <NA>    78557   \n",
       "1                        <NA>                 <NA>     <NA>   \n",
       "2                        <NA>                 <NA>    78557   \n",
       "3                        <NA>                 <NA>    78557   \n",
       "4                        <NA>                 <NA>    78557   \n",
       "5                        <NA>                 <NA>    78557   \n",
       "6                        <NA>                 <NA>    78557   \n",
       "7                        <NA>                 <NA>    78557   \n",
       "8                        <NA>                 <NA>    78557   \n",
       "9                        <NA>                 <NA>     <NA>   \n",
       "\n",
       "                                 id importer_raw_name importer_rank  \\\n",
       "0  54d5cf3a5f2e4467ec69ab0ddc6c80db  BSN MEDICAL GMBH          8267   \n",
       "1  54d5cf3a5f2e4467ec69ab0ddc6c80db  BSN MEDICAL GMBH          8267   \n",
       "2  54d5cf3a5f2e4467ec69ab0ddc6c80db  BSN MEDICAL GMBH          8267   \n",
       "3  54d5cf3a5f2e4467ec69ab0ddc6c80db  BSN MEDICAL GMBH          8267   \n",
       "4  54d5cf3a5f2e4467ec69ab0ddc6c80db  BSN MEDICAL GMBH          8267   \n",
       "5  54d5cf3a5f2e4467ec69ab0ddc6c80db  BSN MEDICAL GMBH          8267   \n",
       "6  54d5cf3a5f2e4467ec69ab0ddc6c80db  BSN MEDICAL GMBH          8267   \n",
       "7  54d5cf3a5f2e4467ec69ab0ddc6c80db  BSN MEDICAL GMBH          8267   \n",
       "8  54d5cf3a5f2e4467ec69ab0ddc6c80db  BSN MEDICAL GMBH          8267   \n",
       "9  681df9b96d70410abc7c71f9297fdf8a  BSN MEDICAL GMBH          8267   \n",
       "\n",
       "  importer_deduped_name  hs_codes_shorten  \\\n",
       "0      BSN MEDICAL GMBH            580620   \n",
       "1      BSN MEDICAL GMBH            701919   \n",
       "2      BSN MEDICAL GMBH            580600   \n",
       "3      BSN MEDICAL GMBH            560410   \n",
       "4      BSN MEDICAL GMBH            580620   \n",
       "5      BSN MEDICAL GMBH            580620   \n",
       "6      BSN MEDICAL GMBH            560410   \n",
       "7      BSN MEDICAL GMBH            560410   \n",
       "8      BSN MEDICAL GMBH            580620   \n",
       "9      BSN MEDICAL GMBH            701919   \n",
       "\n",
       "                                                                                                    hs_codes_desc  \n",
       "0  Fabrics; narrow (excluding pile fabrics), containing by weight 5% or more of elastomeric yarn or rubber thread  \n",
       "1       Glass fibres; (including glass wool), threads and mats, other than mechanically or chemically bonded mats  \n",
       "2                                                                                                            None  \n",
       "3                                                                         Rubber thread and cord; textile covered  \n",
       "4  Fabrics; narrow (excluding pile fabrics), containing by weight 5% or more of elastomeric yarn or rubber thread  \n",
       "5  Fabrics; narrow (excluding pile fabrics), containing by weight 5% or more of elastomeric yarn or rubber thread  \n",
       "6                                                                         Rubber thread and cord; textile covered  \n",
       "7                                                                         Rubber thread and cord; textile covered  \n",
       "8  Fabrics; narrow (excluding pile fabrics), containing by weight 5% or more of elastomeric yarn or rubber thread  \n",
       "9       Glass fibres; (including glass wool), threads and mats, other than mechanically or chemically bonded mats  \n",
       "\n",
       "[10 rows x 22 columns]"
      ]
     },
     "execution_count": 96,
     "metadata": {},
     "output_type": "execute_result"
    }
   ],
   "source": [
    "main.head(10)"
   ]
  },
  {
   "cell_type": "code",
   "execution_count": null,
   "id": "72fc83df",
   "metadata": {},
   "outputs": [],
   "source": []
  }
 ],
 "metadata": {
  "kernelspec": {
   "display_name": "genius",
   "language": "python",
   "name": "genius"
  },
  "language_info": {
   "codemirror_mode": {
    "name": "ipython",
    "version": 3
   },
   "file_extension": ".py",
   "mimetype": "text/x-python",
   "name": "python",
   "nbconvert_exporter": "python",
   "pygments_lexer": "ipython3",
   "version": "3.9.12"
  },
  "toc": {
   "base_numbering": 1,
   "nav_menu": {},
   "number_sections": true,
   "sideBar": true,
   "skip_h1_title": false,
   "title_cell": "Table of Contents",
   "title_sidebar": "Contents",
   "toc_cell": false,
   "toc_position": {
    "height": "calc(100% - 180px)",
    "left": "10px",
    "top": "150px",
    "width": "480px"
   },
   "toc_section_display": true,
   "toc_window_display": true
  }
 },
 "nbformat": 4,
 "nbformat_minor": 5
}
