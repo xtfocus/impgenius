{
 "cells": [
  {
   "cell_type": "markdown",
   "id": "136accfb",
   "metadata": {},
   "source": [
    "This is my solution for the skill test"
   ]
  },
  {
   "cell_type": "code",
   "execution_count": 1,
   "id": "7d896297",
   "metadata": {},
   "outputs": [
    {
     "data": {
      "text/markdown": [
       "Available dataset: \\\n",
       "       ['importer_normalized_data', 'main', 'ports', 'importers_cleaned', 'ports_cleaned', 'main_cleaned']"
      ],
      "text/plain": [
       "<IPython.core.display.Markdown object>"
      ]
     },
     "metadata": {},
     "output_type": "display_data"
    }
   ],
   "source": [
    "import seaborn as sns\n",
    "import pandas as pd\n",
    "from matplotlib import pyplot as plt\n",
    "import os\n",
    "import numpy as np\n",
    "\n",
    "os.sys.path.append('./..')\n",
    "from utils.loadgenius import DataLoader\n",
    "from utils.pretty import pprint, plot_missing_values, plot_value_counts\n",
    "from utils.consignee_extract import parse_string_to_dict\n",
    "from utils.country_name_detect import get_model\n",
    "\n",
    "# Pointing the loader to the data loading instruction\n",
    "dl = DataLoader('./../catalog.yml')\n",
    "\n",
    "pprint(f\"\"\"Available dataset: \\\\\n",
    "       {dl.list_datasets()}\"\"\")"
   ]
  },
  {
   "cell_type": "code",
   "execution_count": 2,
   "id": "a65658d3",
   "metadata": {},
   "outputs": [
    {
     "name": "stdout",
     "output_type": "stream",
     "text": [
      "CPU times: user 21.7 s, sys: 789 ms, total: 22.5 s\n",
      "Wall time: 22.6 s\n"
     ]
    }
   ],
   "source": [
    "%%time\n",
    "# Loading in datasets\n",
    "ports = dl.load('ports').drop('Unnamed: 0', axis=1)\n",
    "main = dl.load('main').drop('Unnamed: 0', axis=1)\n",
    "importer = dl.load('importer_normalized_data').drop('Unnamed: 0', axis=1)"
   ]
  },
  {
   "cell_type": "markdown",
   "id": "371090c1",
   "metadata": {},
   "source": [
    "# Preprocessing datasets"
   ]
  },
  {
   "cell_type": "markdown",
   "id": "017d583a",
   "metadata": {},
   "source": [
    "# `importer_normalized_data.csv`: duplicated raw names"
   ]
  },
  {
   "cell_type": "code",
   "execution_count": 3,
   "id": "09377561",
   "metadata": {},
   "outputs": [
    {
     "data": {
      "text/markdown": [
       "Some raw names are duplicated"
      ],
      "text/plain": [
       "<IPython.core.display.Markdown object>"
      ]
     },
     "metadata": {},
     "output_type": "display_data"
    },
    {
     "data": {
      "text/plain": [
       "importer_raw_name\n",
       "MASONITE LAWRENCEVILLE DFS         2\n",
       "ANATOLIA TILE & STONE, INC. 202    2\n",
       "MASONITE LAWRENCEVILLE             2\n",
       "SINTEX MINERALS                    2\n",
       "METSO MINERALS WAUKESHA            2\n",
       "Name: count, dtype: int64"
      ]
     },
     "metadata": {},
     "output_type": "display_data"
    }
   ],
   "source": [
    "pprint(\"Some raw names are duplicated\")\n",
    "report = importer[\"importer_raw_name\"].value_counts()\n",
    "display(report[report > 1])"
   ]
  },
  {
   "cell_type": "markdown",
   "id": "c982195a",
   "metadata": {},
   "source": [
    "Duplication example MASONITE LAWRENCEVILLE DFS:"
   ]
  },
  {
   "cell_type": "code",
   "execution_count": 4,
   "id": "b978e48a",
   "metadata": {},
   "outputs": [
    {
     "data": {
      "text/html": [
       "<div>\n",
       "<style scoped>\n",
       "    .dataframe tbody tr th:only-of-type {\n",
       "        vertical-align: middle;\n",
       "    }\n",
       "\n",
       "    .dataframe tbody tr th {\n",
       "        vertical-align: top;\n",
       "    }\n",
       "\n",
       "    .dataframe thead th {\n",
       "        text-align: right;\n",
       "    }\n",
       "</style>\n",
       "<table border=\"1\" class=\"dataframe\">\n",
       "  <thead>\n",
       "    <tr style=\"text-align: right;\">\n",
       "      <th></th>\n",
       "      <th>importer_rank</th>\n",
       "      <th>importer_raw_name</th>\n",
       "      <th>importer_deduped_name</th>\n",
       "    </tr>\n",
       "  </thead>\n",
       "  <tbody>\n",
       "    <tr>\n",
       "      <th>21480</th>\n",
       "      <td>3354</td>\n",
       "      <td>MASONITE LAWRENCEVILLE DFS</td>\n",
       "      <td>MASONITE CORP</td>\n",
       "    </tr>\n",
       "    <tr>\n",
       "      <th>46134</th>\n",
       "      <td>9981</td>\n",
       "      <td>MASONITE LAWRENCEVILLE DFS</td>\n",
       "      <td>MASONITE LAWRENCEVILLE DFS</td>\n",
       "    </tr>\n",
       "  </tbody>\n",
       "</table>\n",
       "</div>"
      ],
      "text/plain": [
       "       importer_rank           importer_raw_name       importer_deduped_name\n",
       "21480           3354  MASONITE LAWRENCEVILLE DFS               MASONITE CORP\n",
       "46134           9981  MASONITE LAWRENCEVILLE DFS  MASONITE LAWRENCEVILLE DFS"
      ]
     },
     "execution_count": 4,
     "metadata": {},
     "output_type": "execute_result"
    }
   ],
   "source": [
    "importer.query('importer_raw_name==\"MASONITE LAWRENCEVILLE DFS\"')"
   ]
  },
  {
   "cell_type": "markdown",
   "id": "79fde2ae",
   "metadata": {},
   "source": [
    "**Resolve:** Keep the row with highest rank "
   ]
  },
  {
   "cell_type": "code",
   "execution_count": 5,
   "id": "031640d6",
   "metadata": {},
   "outputs": [],
   "source": [
    "importer = importer.sort_values('importer_rank').drop_duplicates(subset=['importer_raw_name'], keep='first')"
   ]
  },
  {
   "cell_type": "code",
   "execution_count": 6,
   "id": "e1a3231d",
   "metadata": {},
   "outputs": [
    {
     "data": {
      "image/png": "[encoded data removed]",
      "text/plain": [
       "<Figure size 640x480 with 1 Axes>"
      ]
     },
     "metadata": {},
     "output_type": "display_data"
    }
   ],
   "source": [
    "importer['importer_rank'].hist(bins=50)\n",
    "plt.title(\"Hist: Distribution of importer rank\");"
   ]
  },
  {
   "cell_type": "markdown",
   "id": "eeb8532a",
   "metadata": {},
   "source": [
    "It shows that above 5000, the distribution of ranks seems to be uniform."
   ]
  },
  {
   "cell_type": "markdown",
   "id": "f935e9d8",
   "metadata": {},
   "source": [
    "## `ports.csv`: remove duplicates"
   ]
  },
  {
   "cell_type": "code",
   "execution_count": 7,
   "id": "90554958",
   "metadata": {},
   "outputs": [
    {
     "name": "stdout",
     "output_type": "stream",
     "text": [
      "ports: Rows before 10927\n",
      "ports: Rows after deduplication 2862\n"
     ]
    }
   ],
   "source": [
    "print(\"ports: Rows before\", ports.shape[0])\n",
    "ports = (ports\n",
    "         .drop_duplicates(subset=['port_code'])\n",
    "         .reset_index(drop=True)\n",
    "        )\n",
    "print(\"ports: Rows after deduplication\", ports.shape[0])"
   ]
  },
  {
   "cell_type": "markdown",
   "id": "bfb9083a",
   "metadata": {},
   "source": [
    "We only care about ports in `main.csv`:"
   ]
  },
  {
   "cell_type": "code",
   "execution_count": 8,
   "id": "ef4b9d53",
   "metadata": {},
   "outputs": [
    {
     "data": {
      "text/markdown": [
       "Number of ports of interest = 97"
      ],
      "text/plain": [
       "<IPython.core.display.Markdown object>"
      ]
     },
     "metadata": {},
     "output_type": "display_data"
    },
    {
     "data": {
      "image/png": "[encoded data removed]",
      "text/plain": [
       "<Figure size 600x600 with 1 Axes>"
      ]
     },
     "metadata": {},
     "output_type": "display_data"
    }
   ],
   "source": [
    "ports = ports[ports['port_code'].isin(set(main['port_of_unlading']))]\n",
    "ports['port_state'] = ports['port_name'].str.split(',').apply(lambda x: x[1])\n",
    "pprint(f\"Number of ports of interest = {ports.shape[0]}\")\n",
    "ports['port_state'].value_counts()[::-1].plot.barh(figsize=(6, 6))\n",
    "plt.tight_layout()\n",
    "plt.title(\"Number of ports (in main.csv) per State\");"
   ]
  },
  {
   "cell_type": "markdown",
   "id": "93568266",
   "metadata": {},
   "source": [
    "## `main.csv`: extract important fields & drop duplicates"
   ]
  },
  {
   "cell_type": "code",
   "execution_count": 9,
   "id": "241afc8a",
   "metadata": {},
   "outputs": [
    {
     "name": "stdout",
     "output_type": "stream",
     "text": [
      "CPU times: user 36.4 s, sys: 7.24 s, total: 43.7 s\n",
      "Wall time: 1min 5s\n"
     ]
    }
   ],
   "source": [
    "%%time\n",
    "import multiprocessing as mp\n",
    "\n",
    "original_columns = main.columns\n",
    "\n",
    "with mp.Pool() as pool:\n",
    "    result = pool.map(parse_string_to_dict, main['consignee'])\n",
    "    \n",
    "main['extracted'] = result\n",
    "del(result)"
   ]
  },
  {
   "cell_type": "code",
   "execution_count": 10,
   "id": "06c47acf",
   "metadata": {},
   "outputs": [
    {
     "data": {
      "text/markdown": [
       "Extraction is successful"
      ],
      "text/plain": [
       "<IPython.core.display.Markdown object>"
      ]
     },
     "metadata": {},
     "output_type": "display_data"
    }
   ],
   "source": [
    "# Double check if the extraction fails on any record\n",
    "if any(main['extracted'].isna()):\n",
    "    pprint(\"Extraction failed somewhere\")\n",
    "else:\n",
    "    pprint(\"Extraction is successful\")\n",
    "    "
   ]
  },
  {
   "cell_type": "markdown",
   "id": "aabc0917",
   "metadata": {},
   "source": [
    "Extract further on `cleaned_address_breakdown`"
   ]
  },
  {
   "cell_type": "code",
   "execution_count": 11,
   "id": "85eb537d",
   "metadata": {},
   "outputs": [
    {
     "name": "stdout",
     "output_type": "stream",
     "text": [
      "CPU times: user 21.6 s, sys: 258 ms, total: 21.8 s\n",
      "Wall time: 21.9 s\n"
     ]
    }
   ],
   "source": [
    "%%time\n",
    "# Extract information in cleaned address\n",
    "address_bits = ['address_number',\n",
    "                 'country_name',\n",
    "                 'place_name',\n",
    "                 'state_name',\n",
    "                 'street_name',\n",
    "                 'street_name_post_type',\n",
    "                 'street_name_pre_directional',\n",
    "                 'street_name_pre_type',\n",
    "                 'zip_code']\n",
    "\n",
    "for bit in address_bits:\n",
    "    main[bit] = main['extracted'].apply(lambda x: x['cleaned_address_breakdown'].get(bit, '')).replace('', pd.NA)\n",
    "    print(f\"Processing {bit}\", end='\\r')\n",
    "    \n",
    "main['id'] = main['extracted'].apply(lambda x: x['id'])\n",
    "main['importer_raw_name'] = main['extracted'].apply(lambda x: x['name']).str.upper()"
   ]
  },
  {
   "cell_type": "markdown",
   "id": "7a6b6d30",
   "metadata": {},
   "source": [
    "Since we only care about names that exists in importer list:"
   ]
  },
  {
   "cell_type": "code",
   "execution_count": 12,
   "id": "3aea15b2",
   "metadata": {},
   "outputs": [],
   "source": [
    "# Make sure we don't join with duplicated table(s)\n",
    "assert importer['importer_raw_name'].nunique() == importer.shape[0], \"Cannot use importer column for joining\"\n",
    "\n",
    "importer['importer_raw_name'] = importer['importer_raw_name'].str.upper()\n",
    "main = main.merge(importer, how='inner', on='importer_raw_name')"
   ]
  },
  {
   "cell_type": "markdown",
   "id": "869af87c",
   "metadata": {},
   "source": [
    "We want to check the number of nulls in each column:"
   ]
  },
  {
   "cell_type": "code",
   "execution_count": 13,
   "id": "4036f6df",
   "metadata": {},
   "outputs": [
    {
     "data": {
      "image/png": "[encoded data removed]",
      "text/plain": [
       "<Figure size 1000x600 with 1 Axes>"
      ]
     },
     "metadata": {},
     "output_type": "display_data"
    }
   ],
   "source": [
    "plot_missing_values(main.drop([\"consignee\", \"extracted\"],\n",
    "                              axis=1),\n",
    "                    as_percentage=True\n",
    "                   )"
   ]
  },
  {
   "cell_type": "markdown",
   "id": "e059a638",
   "metadata": {},
   "source": [
    "### Observation 1: missing counts\n",
    "`street_name_pre_type` and `street_name_pre_directional` have very high missing counts (approx 96% and 80% respectively)"
   ]
  },
  {
   "cell_type": "markdown",
   "id": "443fc5d9",
   "metadata": {},
   "source": [
    "### Observation 3: Imperfection of the cleaning method [OPTIONAL]"
   ]
  },
  {
   "cell_type": "markdown",
   "id": "4a9d460f",
   "metadata": {},
   "source": [
    "`cleaned_address_breakdown` seems to be a result by another extraction procedure.\n",
    "This extraction is not perfect, as shown  in the graph of top 10 countries by frequencies in `main.csv`: sometimes it excludes STATES from UNITED STATES, yielding UNITED (which is a mistake)"
   ]
  },
  {
   "cell_type": "code",
   "execution_count": 14,
   "id": "9a07306d",
   "metadata": {},
   "outputs": [
    {
     "data": {
      "image/png": "[encoded data removed]",
      "text/plain": [
       "<Figure size 640x480 with 1 Axes>"
      ]
     },
     "metadata": {},
     "output_type": "display_data"
    }
   ],
   "source": [
    "fig, ax = plt.subplots()\n",
    "main['country_name'].value_counts().head(20)[::-1].plot.barh(log=True, ax=ax);\n",
    "ax.set_title(\"Most popular consignee countries in main.csv. Log scale\")\n",
    "plt.show()"
   ]
  },
  {
   "cell_type": "code",
   "execution_count": 15,
   "id": "06f6421c",
   "metadata": {},
   "outputs": [
    {
     "data": {
      "text/markdown": [
       "An example where UNITED STATES became UNITED after *cleaned*:"
      ],
      "text/plain": [
       "<IPython.core.display.Markdown object>"
      ]
     },
     "metadata": {},
     "output_type": "display_data"
    },
    {
     "data": {
      "text/markdown": [
       "{name=DAVID PEYSER SPORTSWEAR INC., address=90 SPENCE STREET, BAYSHORE, N.Y.11706, UNITED STATES., cleaned_address=90 SPENCE STREET, UNITED, cleaned_address_breakdown={address_number=90, country_name=UNITED, place_name=, state_name=, street_name=SPENCE, street_name_post_type=STREET, street_name_pre_directional=, street_name_pre_type=, zip_code=}, contact_name=, comm_number_qualifier=, comm_number=, id=9172da5f709b1914663d3b0e68f0243f}"
      ],
      "text/plain": [
       "<IPython.core.display.Markdown object>"
      ]
     },
     "metadata": {},
     "output_type": "display_data"
    }
   ],
   "source": [
    "pprint(\"An example where UNITED STATES became UNITED after *cleaned*:\")\n",
    "pprint(main[main['country_name']=='UNITED']['consignee'].iloc[9])"
   ]
  },
  {
   "cell_type": "markdown",
   "id": "26bb6c12",
   "metadata": {},
   "source": [
    "In addition, sometimes the state name or another territory name gets in the `country_name`: NY in NY USA for instance.\n",
    "\n",
    "Finally, synonyms were not handled at all: UNITED STATES, USA, US, USA US are the same thing.\n",
    "\n",
    "Imperfection of the extraction on the country name level is a strong reason to assume the same happening in lower levels.\n",
    "\n",
    "**How to fix that?** Use a better extraction method, such as Named Entity Recognition. For instance:"
   ]
  },
  {
   "cell_type": "markdown",
   "id": "11e74dc7",
   "metadata": {},
   "source": [
    "#### Demo Named-Entity-Recognition [OPTIONAL]"
   ]
  },
  {
   "cell_type": "code",
   "execution_count": 16,
   "id": "e6a72b08",
   "metadata": {},
   "outputs": [
    {
     "data": {
      "text/markdown": [
       "Showing an alternative way to extract country name:"
      ],
      "text/plain": [
       "<IPython.core.display.Markdown object>"
      ]
     },
     "metadata": {},
     "output_type": "display_data"
    },
    {
     "data": {
      "text/html": [
       "<span class=\"tex2jax_ignore\"><div class=\"entities\" style=\"line-height: 2.5; direction: ltr\">{name=BSN MEDICAL GMBH, address=400 OLMOS BLVD STE A HIDALGO TX 78557 \n",
       "<mark class=\"entity\" style=\"background: #ddd; padding: 0.45em 0.6em; margin: 0 0.25em; line-height: 1; border-radius: 0.35em;\">\n",
       "    US\n",
       "    <span style=\"font-size: 0.8em; font-weight: bold; line-height: 1; border-radius: 0.35em; vertical-align: middle; margin-left: 0.5rem\">UNITED_STATES</span>\n",
       "</mark>\n",
       ", cleaned_address=400 OLMOS BLVD, HIDALGO, TX 78557, \n",
       "<mark class=\"entity\" style=\"background: #ddd; padding: 0.45em 0.6em; margin: 0 0.25em; line-height: 1; border-radius: 0.35em;\">\n",
       "    USA\n",
       "    <span style=\"font-size: 0.8em; font-weight: bold; line-height: 1; border-radius: 0.35em; vertical-align: middle; margin-left: 0.5rem\">UNITED_STATES</span>\n",
       "</mark>\n",
       ", cleaned_address_breakdown={address_number=400, country_name=\n",
       "<mark class=\"entity\" style=\"background: #ddd; padding: 0.45em 0.6em; margin: 0 0.25em; line-height: 1; border-radius: 0.35em;\">\n",
       "    USA\n",
       "    <span style=\"font-size: 0.8em; font-weight: bold; line-height: 1; border-radius: 0.35em; vertical-align: middle; margin-left: 0.5rem\">UNITED_STATES</span>\n",
       "</mark>\n",
       ", place_name=HIDALGO, state_name=TX, street_name=OLMOS, street_name_post_type=BLVD, street_name_pre_directional=, street_name_pre_type=, zip_code=78557}, contact_name=, comm_number_qualifier=, comm_number=, id=54d5cf3a5f2e4467ec69ab0ddc6c80db}</div></span>"
      ],
      "text/plain": [
       "<IPython.core.display.HTML object>"
      ]
     },
     "metadata": {},
     "output_type": "display_data"
    },
    {
     "name": "stdout",
     "output_type": "stream",
     "text": [
      "====================\n"
     ]
    }
   ],
   "source": [
    "from spacy import displacy\n",
    "    \n",
    "nlp = get_model() # Retrieve an example NER model for country name detection\n",
    "\n",
    "# Get some example consignee strings\n",
    "samples_others = list(main[main['country_name'].str.lower().str.contains('serbia|taiwan') == True]['consignee'])[:2]\n",
    "samples_us = list(main[main['country_name'].str.lower().str.contains('usa|united state| us') == True]['consignee'])[:1]\n",
    "\n",
    "pprint(\"Showing an alternative way to extract country name:\")\n",
    "for example in samples_others + samples_us:\n",
    "    displacy.render(\n",
    "        nlp(example),\n",
    "        style='ent')\n",
    "    print(\"=\"*20)"
   ]
  },
  {
   "cell_type": "markdown",
   "id": "6a0d6c07",
   "metadata": {},
   "source": [
    "In the example above, my model is able to detect both US and UNITED STATES as the synonyms for USA.\n",
    "\n",
    "Since developing such as model requires gathering  more country names and synonyms, I only show an example for a small number of countries as above."
   ]
  },
  {
   "cell_type": "markdown",
   "id": "2ce6f554",
   "metadata": {},
   "source": [
    "### Observation 2: duplicated rows"
   ]
  },
  {
   "cell_type": "markdown",
   "id": "b39b0531",
   "metadata": {},
   "source": [
    "Many rows in `main.csv` are exactly the same. **Possible reasons:**\n",
    "- someone made a join with another duplicated dataframe ealier, resulting in duplicates in `main.csv`\n",
    "- there's a missing column, which can be a key by itself or part of a composite key."
   ]
  },
  {
   "cell_type": "code",
   "execution_count": 17,
   "id": "655aa8fb",
   "metadata": {},
   "outputs": [
    {
     "data": {
      "text/markdown": [
       "Example of duplicated rows"
      ],
      "text/plain": [
       "<IPython.core.display.Markdown object>"
      ]
     },
     "metadata": {},
     "output_type": "display_data"
    },
    {
     "data": {
      "text/html": [
       "<div>\n",
       "<style scoped>\n",
       "    .dataframe tbody tr th:only-of-type {\n",
       "        vertical-align: middle;\n",
       "    }\n",
       "\n",
       "    .dataframe tbody tr th {\n",
       "        vertical-align: top;\n",
       "    }\n",
       "\n",
       "    .dataframe thead th {\n",
       "        text-align: right;\n",
       "    }\n",
       "</style>\n",
       "<table border=\"1\" class=\"dataframe\">\n",
       "  <thead>\n",
       "    <tr style=\"text-align: right;\">\n",
       "      <th></th>\n",
       "      <th>consignee</th>\n",
       "      <th>calculated_teu</th>\n",
       "      <th>file_month</th>\n",
       "      <th>port_of_unlading</th>\n",
       "      <th>country_of_origin</th>\n",
       "      <th>hs_codes</th>\n",
       "    </tr>\n",
       "  </thead>\n",
       "  <tbody>\n",
       "    <tr>\n",
       "      <th>1189926</th>\n",
       "      <td>{name=DETROIT DIESEL PARTS DISTRIBUTION, address=CENTER 515 11TH STREET SE CANTON, OH 44707, cleaned_address=515 11TH STREET, CANTON, OH 44707, USA, cleaned_address_breakdown={address_number=515, country_name=USA, place_name=CANTON, state_name=OH, street_name=11TH, street_name_post_type=STREET, street_name_pre_directional=, street_name_pre_type=, zip_code=44707}, contact_name=, comm_number_qualifier=, comm_number=, id=857a923157f99f7c13920a7e563ae9b2}</td>\n",
       "      <td>2.0</td>\n",
       "      <td>10</td>\n",
       "      <td>1401</td>\n",
       "      <td>FRANCE</td>\n",
       "      <td>HS CODE 8708 0000</td>\n",
       "    </tr>\n",
       "    <tr>\n",
       "      <th>1199815</th>\n",
       "      <td>{name=DETROIT DIESEL PARTS DISTRIBUTION, address=CENTER 515 11TH STREET SE CANTON, OH 44707, cleaned_address=515 11TH STREET, CANTON, OH 44707, USA, cleaned_address_breakdown={address_number=515, country_name=USA, place_name=CANTON, state_name=OH, street_name=11TH, street_name_post_type=STREET, street_name_pre_directional=, street_name_pre_type=, zip_code=44707}, contact_name=, comm_number_qualifier=, comm_number=, id=857a923157f99f7c13920a7e563ae9b2}</td>\n",
       "      <td>2.0</td>\n",
       "      <td>10</td>\n",
       "      <td>1401</td>\n",
       "      <td>FRANCE</td>\n",
       "      <td>HS CODE 8708 0000</td>\n",
       "    </tr>\n",
       "    <tr>\n",
       "      <th>1199816</th>\n",
       "      <td>{name=DETROIT DIESEL PARTS DISTRIBUTION, address=CENTER 515 11TH STREET SE CANTON, OH 44707, cleaned_address=515 11TH STREET, CANTON, OH 44707, USA, cleaned_address_breakdown={address_number=515, country_name=USA, place_name=CANTON, state_name=OH, street_name=11TH, street_name_post_type=STREET, street_name_pre_directional=, street_name_pre_type=, zip_code=44707}, contact_name=, comm_number_qualifier=, comm_number=, id=857a923157f99f7c13920a7e563ae9b2}</td>\n",
       "      <td>2.0</td>\n",
       "      <td>10</td>\n",
       "      <td>1401</td>\n",
       "      <td>FRANCE</td>\n",
       "      <td>HS CODE 8708 0000</td>\n",
       "    </tr>\n",
       "  </tbody>\n",
       "</table>\n",
       "</div>"
      ],
      "text/plain": [
       "                                                                                                                                                                                                                                                                                                                                                                                                                                                                       consignee  \\\n",
       "1189926  {name=DETROIT DIESEL PARTS DISTRIBUTION, address=CENTER 515 11TH STREET SE CANTON, OH 44707, cleaned_address=515 11TH STREET, CANTON, OH 44707, USA, cleaned_address_breakdown={address_number=515, country_name=USA, place_name=CANTON, state_name=OH, street_name=11TH, street_name_post_type=STREET, street_name_pre_directional=, street_name_pre_type=, zip_code=44707}, contact_name=, comm_number_qualifier=, comm_number=, id=857a923157f99f7c13920a7e563ae9b2}   \n",
       "1199815  {name=DETROIT DIESEL PARTS DISTRIBUTION, address=CENTER 515 11TH STREET SE CANTON, OH 44707, cleaned_address=515 11TH STREET, CANTON, OH 44707, USA, cleaned_address_breakdown={address_number=515, country_name=USA, place_name=CANTON, state_name=OH, street_name=11TH, street_name_post_type=STREET, street_name_pre_directional=, street_name_pre_type=, zip_code=44707}, contact_name=, comm_number_qualifier=, comm_number=, id=857a923157f99f7c13920a7e563ae9b2}   \n",
       "1199816  {name=DETROIT DIESEL PARTS DISTRIBUTION, address=CENTER 515 11TH STREET SE CANTON, OH 44707, cleaned_address=515 11TH STREET, CANTON, OH 44707, USA, cleaned_address_breakdown={address_number=515, country_name=USA, place_name=CANTON, state_name=OH, street_name=11TH, street_name_post_type=STREET, street_name_pre_directional=, street_name_pre_type=, zip_code=44707}, contact_name=, comm_number_qualifier=, comm_number=, id=857a923157f99f7c13920a7e563ae9b2}   \n",
       "\n",
       "         calculated_teu  file_month  port_of_unlading country_of_origin  \\\n",
       "1189926             2.0          10              1401            FRANCE   \n",
       "1199815             2.0          10              1401            FRANCE   \n",
       "1199816             2.0          10              1401            FRANCE   \n",
       "\n",
       "                  hs_codes  \n",
       "1189926  HS CODE 8708 0000  \n",
       "1199815  HS CODE 8708 0000  \n",
       "1199816  HS CODE 8708 0000  "
      ]
     },
     "execution_count": 17,
     "metadata": {},
     "output_type": "execute_result"
    }
   ],
   "source": [
    "pd.set_option('display.max_colwidth', None)\n",
    "pprint(\"Example of duplicated rows\")\n",
    "(\n",
    "    main\n",
    "    .query('id==\"857a923157f99f7c13920a7e563ae9b2\" & hs_codes==\"HS CODE 8708 0000\" & file_month==10')\n",
    "    .sort_values('consignee')\n",
    "    .head(3)[original_columns]\n",
    ")"
   ]
  },
  {
   "cell_type": "markdown",
   "id": "fac303b0",
   "metadata": {},
   "source": [
    "**Assuming this duplication is an error** (likely caused by join with duplicated data), I drop the duplicates:"
   ]
  },
  {
   "cell_type": "code",
   "execution_count": 18,
   "id": "3928a74d",
   "metadata": {},
   "outputs": [
    {
     "data": {
      "text/markdown": [
       "`main.csv`: Number of rows before = 1385308"
      ],
      "text/plain": [
       "<IPython.core.display.Markdown object>"
      ]
     },
     "metadata": {},
     "output_type": "display_data"
    },
    {
     "data": {
      "text/markdown": [
       "`main.csv`: Number of rows after drop_duplicates = 531578"
      ],
      "text/plain": [
       "<IPython.core.display.Markdown object>"
      ]
     },
     "metadata": {},
     "output_type": "display_data"
    },
    {
     "data": {
      "text/markdown": [
       "Drop rate = 62%"
      ],
      "text/plain": [
       "<IPython.core.display.Markdown object>"
      ]
     },
     "metadata": {},
     "output_type": "display_data"
    }
   ],
   "source": [
    "before = main.shape[0]\n",
    "pprint(f\"`main.csv`: Number of rows before = {before}\")\n",
    "\n",
    "main = (main\n",
    "        .drop_duplicates(subset=original_columns)\n",
    "        .reset_index(drop=True)\n",
    "       )\n",
    "\n",
    "pprint(f\"`main.csv`: Number of rows after drop_duplicates = {main.shape[0]}\")\n",
    "pprint(f\"Drop rate = {round(100*(1- main.shape[0]/before))}%\")"
   ]
  },
  {
   "cell_type": "markdown",
   "id": "4973e839",
   "metadata": {},
   "source": [
    "### HS codes mapping\n",
    "\n",
    "In this subsection, I convert the first 4 digits in HS codes to their description (Chapter and Heading)\n",
    "\n",
    "I do this to achieve a medium level of granularity for analysis and ML later\n",
    "\n",
    "Implementation details:\n",
    "\n",
    "- I used an opensource database [here](https://github.com/datasets/harmonized-system/tree/master) to lookup the hs codes\n",
    "- To speed-up, I search for **unique hs codes** before mapping, rather than mapping straight away"
   ]
  },
  {
   "cell_type": "code",
   "execution_count": 19,
   "id": "9fb6eabd",
   "metadata": {},
   "outputs": [],
   "source": [
    "hs_table = pd.read_csv('https://raw.githubusercontent.com/datasets/harmonized-system/master/data/harmonized-system.csv', dtype='str')\n",
    "\n",
    "main['hs_codes_shorten'] = main['hs_codes'].str.replace(r'(\\D)', '', regex=True).apply(lambda x: x[:4])\n",
    "\n",
    "def query_hs_codes_desc(code, table):\n",
    "    result = table.query(\"hscode==@code\")['description']\n",
    "    if result.shape[0] == 0:\n",
    "        return None\n",
    "    else:\n",
    "        return list(result)[0]\n",
    "\n",
    "hs_mapping = main[['hs_codes_shorten']].drop_duplicates().reset_index(drop=True)\n",
    "hs_mapping['desc'] = hs_mapping['hs_codes_shorten'].apply(\n",
    "    lambda x: query_hs_codes_desc(x, hs_table)\n",
    ")\n",
    "\n",
    "hs_mapping = hs_mapping.set_index('hs_codes_shorten')['desc']\n",
    "hs_mapping = hs_mapping.to_dict()\n",
    "main['hs_codes_desc'] = main['hs_codes_shorten'].apply(lambda x: hs_mapping[x])"
   ]
  },
  {
   "cell_type": "code",
   "execution_count": 20,
   "id": "e6860cca",
   "metadata": {},
   "outputs": [
    {
     "data": {
      "image/png": "[encoded data removed]",
      "text/plain": [
       "<Figure size 400x300 with 1 Axes>"
      ]
     },
     "metadata": {},
     "output_type": "display_data"
    }
   ],
   "source": [
    "plot_missing_values(main[['hs_codes', \"hs_codes_desc\"]], as_percentage=True, figsize=(4,3))"
   ]
  },
  {
   "cell_type": "code",
   "execution_count": 21,
   "id": "7651491a",
   "metadata": {},
   "outputs": [
    {
     "data": {
      "text/markdown": [
       "Number of `hs_codes` values whose description cannot be found = 9775 ~ 1.84%"
      ],
      "text/plain": [
       "<IPython.core.display.Markdown object>"
      ]
     },
     "metadata": {},
     "output_type": "display_data"
    },
    {
     "data": {
      "text/markdown": [
       "Examples and their frequencies"
      ],
      "text/plain": [
       "<IPython.core.display.Markdown object>"
      ]
     },
     "metadata": {},
     "output_type": "display_data"
    },
    {
     "data": {
      "text/plain": [
       "hs_codes\n",
       "HS CODE 0000 0000    140\n",
       "HS CODE 2167 0000    116\n",
       "HS CODE 8803 3000    100\n",
       "HS CODE 1000 0000     96\n",
       "HS CODE 6011 0000     71\n",
       "Name: count, dtype: int64"
      ]
     },
     "metadata": {},
     "output_type": "display_data"
    }
   ],
   "source": [
    "unk = main[main['hs_codes_desc'].isna()]\n",
    "pprint(f\"Number of `hs_codes` values whose description cannot be found = {unk.shape[0]} ~ {round(unk.shape[0]/main.shape[0] * 100, 2)}%\")\n",
    "pprint(\"Examples and their frequencies\")\n",
    "display(unk['hs_codes'].value_counts().head())\n",
    "del(unk)"
   ]
  },
  {
   "cell_type": "markdown",
   "id": "613b5dad",
   "metadata": {},
   "source": [
    "Within the timeframe of this skill test, I simply ignore the unknown hs codes for now."
   ]
  },
  {
   "cell_type": "markdown",
   "id": "824d7c3a",
   "metadata": {},
   "source": [
    "# Only cares about row in main that can map to ports\n",
    "\n"
   ]
  },
  {
   "cell_type": "code",
   "execution_count": 22,
   "id": "be40683b",
   "metadata": {},
   "outputs": [
    {
     "name": "stdout",
     "output_type": "stream",
     "text": [
      "Before dropping rows with unknown ports: rows = 531578\n",
      "After dropping rows with unknown ports:  rows = 531578\n"
     ]
    }
   ],
   "source": [
    "copy = main[main['port_of_unlading'].isin(set(ports['port_code']))]\n",
    "print(f\"Before dropping rows with unknown ports: rows = {main.shape[0]}\")\n",
    "print(f\"After dropping rows with unknown ports:  rows = {copy.shape[0]}\")"
   ]
  },
  {
   "cell_type": "markdown",
   "id": "77447b47",
   "metadata": {},
   "source": [
    "No row is dropped (which is good)"
   ]
  },
  {
   "cell_type": "code",
   "execution_count": 23,
   "id": "3b7c3aef",
   "metadata": {},
   "outputs": [],
   "source": [
    "# Saving datasets\n",
    "main[['id', 'importer_deduped_name', 'importer_rank', 'zip_code', 'state_name',\n",
    "      'hs_codes_shorten', 'hs_codes_desc', 'country_of_origin',\n",
    "      'port_of_unlading', 'file_month', 'calculated_teu']].to_parquet(\"../datasets/main.parquet\")\n",
    "\n",
    "main[[\"id\", \"importer_deduped_name\", \"importer_rank\"]].drop_duplicates().to_parquet(\"../datasets/importers.parquet\")\n",
    "\n",
    "ports.drop_duplicates().to_parquet(\"../datasets/ports.parquet\")"
   ]
  },
  {
   "cell_type": "markdown",
   "id": "e1aefc65",
   "metadata": {},
   "source": [
    "# Analytics plan\n",
    "\n",
    "To find out which company is worth investing, we care about the following things:\n",
    "- What they import\n",
    "- How frequent they import that product and how much, compared to other importer\n",
    "- How much (in teu) they import that product, compared to the norm\n",
    "- How diverse are their imports: Diversing but small company might be a redflag. A focused portfolio is always a good sign.\n",
    "- Do they diversify their sources? How many ports of unloading? Higher can be an implication of scaled logistics activity. \n",
    "- ... PCA then clustering. Check if importers with higher rank cluster"
   ]
  },
  {
   "cell_type": "code",
   "execution_count": 22,
   "id": "4d42bd6e",
   "metadata": {},
   "outputs": [],
   "source": [
    "def generate_sample_history(query=None):\n",
    "    if query is None:\n",
    "        sample_importer = list(main['id'].drop_duplicates().sample(1))[0]\n",
    "    else:\n",
    "        sample_importer = list(main.query(query)['id'].drop_duplicates().sample(1))[0]\n",
    "    print(sample_importer)\n",
    "    sample_history = main[main[\"id\"]==sample_importer]\n",
    "    return (\n",
    "        sample_history[['file_month', 'hs_codes', 'calculated_teu',\n",
    "                        'country_of_origin', 'port_of_unlading', \n",
    "                        'importer_deduped_name', 'importer_rank']].sort_values(\n",
    "        ['file_month', 'hs_codes']\n",
    "        )\n",
    "        )\n"
   ]
  },
  {
   "cell_type": "code",
   "execution_count": 23,
   "id": "881bdf27",
   "metadata": {},
   "outputs": [
    {
     "data": {
      "text/html": [
       "<div>\n",
       "<style scoped>\n",
       "    .dataframe tbody tr th:only-of-type {\n",
       "        vertical-align: middle;\n",
       "    }\n",
       "\n",
       "    .dataframe tbody tr th {\n",
       "        vertical-align: top;\n",
       "    }\n",
       "\n",
       "    .dataframe thead th {\n",
       "        text-align: right;\n",
       "    }\n",
       "</style>\n",
       "<table border=\"1\" class=\"dataframe\">\n",
       "  <thead>\n",
       "    <tr style=\"text-align: right;\">\n",
       "      <th></th>\n",
       "      <th>importer_rank</th>\n",
       "      <th>importer_deduped_name</th>\n",
       "    </tr>\n",
       "  </thead>\n",
       "  <tbody>\n",
       "    <tr>\n",
       "      <th>0</th>\n",
       "      <td>1</td>\n",
       "      <td>DOLE FRESH FRUIT COMPANY</td>\n",
       "    </tr>\n",
       "    <tr>\n",
       "      <th>51</th>\n",
       "      <td>2</td>\n",
       "      <td>SAMSUNG ELECTRONICS AMERICA INC</td>\n",
       "    </tr>\n",
       "    <tr>\n",
       "      <th>137</th>\n",
       "      <td>4</td>\n",
       "      <td>LG ELECTRONICS</td>\n",
       "    </tr>\n",
       "    <tr>\n",
       "      <th>182</th>\n",
       "      <td>5</td>\n",
       "      <td>CHIQUITA FRESH NORTH AMERICA</td>\n",
       "    </tr>\n",
       "    <tr>\n",
       "      <th>250</th>\n",
       "      <td>6</td>\n",
       "      <td>IKEA</td>\n",
       "    </tr>\n",
       "    <tr>\n",
       "      <th>286</th>\n",
       "      <td>7</td>\n",
       "      <td>WALMART INC</td>\n",
       "    </tr>\n",
       "    <tr>\n",
       "      <th>304</th>\n",
       "      <td>11</td>\n",
       "      <td>DEL MONTE FRESH PRODUCE COMPANY</td>\n",
       "    </tr>\n",
       "    <tr>\n",
       "      <th>319</th>\n",
       "      <td>13</td>\n",
       "      <td>RED BULL GMBH</td>\n",
       "    </tr>\n",
       "    <tr>\n",
       "      <th>329</th>\n",
       "      <td>14</td>\n",
       "      <td>LG SOURCING INC</td>\n",
       "    </tr>\n",
       "    <tr>\n",
       "      <th>389</th>\n",
       "      <td>16</td>\n",
       "      <td>ANHEUSER-BUSCH COMPANIES LLC</td>\n",
       "    </tr>\n",
       "  </tbody>\n",
       "</table>\n",
       "</div>"
      ],
      "text/plain": [
       "     importer_rank            importer_deduped_name\n",
       "0                1         DOLE FRESH FRUIT COMPANY\n",
       "51               2  SAMSUNG ELECTRONICS AMERICA INC\n",
       "137              4                   LG ELECTRONICS\n",
       "182              5     CHIQUITA FRESH NORTH AMERICA\n",
       "250              6                             IKEA\n",
       "286              7                      WALMART INC\n",
       "304             11  DEL MONTE FRESH PRODUCE COMPANY\n",
       "319             13                    RED BULL GMBH\n",
       "329             14                  LG SOURCING INC\n",
       "389             16     ANHEUSER-BUSCH COMPANIES LLC"
      ]
     },
     "execution_count": 23,
     "metadata": {},
     "output_type": "execute_result"
    }
   ],
   "source": [
    "importer[['importer_rank', 'importer_deduped_name']].drop_duplicates().head(10)"
   ]
  },
  {
   "cell_type": "code",
   "execution_count": 24,
   "id": "b7eac92c",
   "metadata": {},
   "outputs": [
    {
     "name": "stdout",
     "output_type": "stream",
     "text": [
      "900a0cd44e934d9163184950ee890a70\n"
     ]
    },
    {
     "data": {
      "text/html": [
       "<div>\n",
       "<style scoped>\n",
       "    .dataframe tbody tr th:only-of-type {\n",
       "        vertical-align: middle;\n",
       "    }\n",
       "\n",
       "    .dataframe tbody tr th {\n",
       "        vertical-align: top;\n",
       "    }\n",
       "\n",
       "    .dataframe thead th {\n",
       "        text-align: right;\n",
       "    }\n",
       "</style>\n",
       "<table border=\"1\" class=\"dataframe\">\n",
       "  <thead>\n",
       "    <tr style=\"text-align: right;\">\n",
       "      <th></th>\n",
       "      <th>file_month</th>\n",
       "      <th>hs_codes</th>\n",
       "      <th>calculated_teu</th>\n",
       "      <th>country_of_origin</th>\n",
       "      <th>port_of_unlading</th>\n",
       "      <th>importer_deduped_name</th>\n",
       "      <th>importer_rank</th>\n",
       "    </tr>\n",
       "  </thead>\n",
       "  <tbody>\n",
       "    <tr>\n",
       "      <th>1307470</th>\n",
       "      <td>2</td>\n",
       "      <td>HS CODE 7324 1000</td>\n",
       "      <td>1.0</td>\n",
       "      <td>VIETNAM</td>\n",
       "      <td>2709</td>\n",
       "      <td>CHEMCORE INDUSTRIES OF GEORGIA</td>\n",
       "      <td>10073</td>\n",
       "    </tr>\n",
       "    <tr>\n",
       "      <th>1307472</th>\n",
       "      <td>2</td>\n",
       "      <td>HS CODE 7324 1000</td>\n",
       "      <td>2.0</td>\n",
       "      <td>VIETNAM</td>\n",
       "      <td>1703</td>\n",
       "      <td>CHEMCORE INDUSTRIES OF GEORGIA</td>\n",
       "      <td>10073</td>\n",
       "    </tr>\n",
       "    <tr>\n",
       "      <th>1307468</th>\n",
       "      <td>6</td>\n",
       "      <td>HS CODE 7324 1000</td>\n",
       "      <td>1.0</td>\n",
       "      <td>VIETNAM</td>\n",
       "      <td>2704</td>\n",
       "      <td>CHEMCORE INDUSTRIES OF GEORGIA</td>\n",
       "      <td>10073</td>\n",
       "    </tr>\n",
       "    <tr>\n",
       "      <th>1307475</th>\n",
       "      <td>7</td>\n",
       "      <td>HS CODE 7324 1000</td>\n",
       "      <td>1.0</td>\n",
       "      <td>VIETNAM</td>\n",
       "      <td>1703</td>\n",
       "      <td>CHEMCORE INDUSTRIES OF GEORGIA</td>\n",
       "      <td>10073</td>\n",
       "    </tr>\n",
       "    <tr>\n",
       "      <th>1307469</th>\n",
       "      <td>8</td>\n",
       "      <td>HS CODE 7324 1000</td>\n",
       "      <td>2.0</td>\n",
       "      <td>VIETNAM</td>\n",
       "      <td>1703</td>\n",
       "      <td>CHEMCORE INDUSTRIES OF GEORGIA</td>\n",
       "      <td>10073</td>\n",
       "    </tr>\n",
       "    <tr>\n",
       "      <th>1307471</th>\n",
       "      <td>8</td>\n",
       "      <td>HS CODE 7324 1000</td>\n",
       "      <td>1.0</td>\n",
       "      <td>VIETNAM</td>\n",
       "      <td>2704</td>\n",
       "      <td>CHEMCORE INDUSTRIES OF GEORGIA</td>\n",
       "      <td>10073</td>\n",
       "    </tr>\n",
       "    <tr>\n",
       "      <th>1307478</th>\n",
       "      <td>8</td>\n",
       "      <td>HS CODE 7324 1000</td>\n",
       "      <td>2.0</td>\n",
       "      <td>VIETNAM</td>\n",
       "      <td>2704</td>\n",
       "      <td>CHEMCORE INDUSTRIES OF GEORGIA</td>\n",
       "      <td>10073</td>\n",
       "    </tr>\n",
       "    <tr>\n",
       "      <th>1307474</th>\n",
       "      <td>9</td>\n",
       "      <td>HS CODE 7324 1000</td>\n",
       "      <td>2.0</td>\n",
       "      <td>VIETNAM</td>\n",
       "      <td>1703</td>\n",
       "      <td>CHEMCORE INDUSTRIES OF GEORGIA</td>\n",
       "      <td>10073</td>\n",
       "    </tr>\n",
       "    <tr>\n",
       "      <th>1307477</th>\n",
       "      <td>9</td>\n",
       "      <td>HS CODE 7324 1000</td>\n",
       "      <td>2.0</td>\n",
       "      <td>VIETNAM</td>\n",
       "      <td>4601</td>\n",
       "      <td>CHEMCORE INDUSTRIES OF GEORGIA</td>\n",
       "      <td>10073</td>\n",
       "    </tr>\n",
       "    <tr>\n",
       "      <th>1307479</th>\n",
       "      <td>9</td>\n",
       "      <td>HS CODE 7324 1000</td>\n",
       "      <td>2.0</td>\n",
       "      <td>VIETNAM</td>\n",
       "      <td>2704</td>\n",
       "      <td>CHEMCORE INDUSTRIES OF GEORGIA</td>\n",
       "      <td>10073</td>\n",
       "    </tr>\n",
       "  </tbody>\n",
       "</table>\n",
       "</div>"
      ],
      "text/plain": [
       "         file_month           hs_codes  calculated_teu country_of_origin  \\\n",
       "1307470           2  HS CODE 7324 1000             1.0           VIETNAM   \n",
       "1307472           2  HS CODE 7324 1000             2.0           VIETNAM   \n",
       "1307468           6  HS CODE 7324 1000             1.0           VIETNAM   \n",
       "1307475           7  HS CODE 7324 1000             1.0           VIETNAM   \n",
       "1307469           8  HS CODE 7324 1000             2.0           VIETNAM   \n",
       "1307471           8  HS CODE 7324 1000             1.0           VIETNAM   \n",
       "1307478           8  HS CODE 7324 1000             2.0           VIETNAM   \n",
       "1307474           9  HS CODE 7324 1000             2.0           VIETNAM   \n",
       "1307477           9  HS CODE 7324 1000             2.0           VIETNAM   \n",
       "1307479           9  HS CODE 7324 1000             2.0           VIETNAM   \n",
       "\n",
       "         port_of_unlading           importer_deduped_name  importer_rank  \n",
       "1307470              2709  CHEMCORE INDUSTRIES OF GEORGIA          10073  \n",
       "1307472              1703  CHEMCORE INDUSTRIES OF GEORGIA          10073  \n",
       "1307468              2704  CHEMCORE INDUSTRIES OF GEORGIA          10073  \n",
       "1307475              1703  CHEMCORE INDUSTRIES OF GEORGIA          10073  \n",
       "1307469              1703  CHEMCORE INDUSTRIES OF GEORGIA          10073  \n",
       "1307471              2704  CHEMCORE INDUSTRIES OF GEORGIA          10073  \n",
       "1307478              2704  CHEMCORE INDUSTRIES OF GEORGIA          10073  \n",
       "1307474              1703  CHEMCORE INDUSTRIES OF GEORGIA          10073  \n",
       "1307477              4601  CHEMCORE INDUSTRIES OF GEORGIA          10073  \n",
       "1307479              2704  CHEMCORE INDUSTRIES OF GEORGIA          10073  "
      ]
     },
     "execution_count": 24,
     "metadata": {},
     "output_type": "execute_result"
    }
   ],
   "source": [
    "generate_sample_history('importer_rank > 10000')"
   ]
  },
  {
   "cell_type": "code",
   "execution_count": 25,
   "id": "1abe5360",
   "metadata": {},
   "outputs": [],
   "source": [
    "importer_activity = (\n",
    "    main[['id', 'hs_codes', 'importer_rank',\n",
    "          'file_month', 'calculated_teu', 'country_of_origin',\n",
    "          'port_of_unlading']]\n",
    "    .groupby(['id', 'importer_rank', 'hs_codes'])\n",
    "    .agg(\n",
    "        n_months=('file_month', 'nunique'),\n",
    "        sum_teu=('calculated_teu', 'sum'),\n",
    "        n_ports=('port_of_unlading', 'nunique'),\n",
    "        n_origins=('country_of_origin', 'nunique'),\n",
    "        major_origin=('country_of_origin', lambda x: x.value_counts().idxmax()),\n",
    "    ).reset_index()\n",
    ")"
   ]
  },
  {
   "cell_type": "code",
   "execution_count": 26,
   "id": "e151e4ce",
   "metadata": {},
   "outputs": [
    {
     "data": {
      "text/html": [
       "<div>\n",
       "<style scoped>\n",
       "    .dataframe tbody tr th:only-of-type {\n",
       "        vertical-align: middle;\n",
       "    }\n",
       "\n",
       "    .dataframe tbody tr th {\n",
       "        vertical-align: top;\n",
       "    }\n",
       "\n",
       "    .dataframe thead th {\n",
       "        text-align: right;\n",
       "    }\n",
       "</style>\n",
       "<table border=\"1\" class=\"dataframe\">\n",
       "  <thead>\n",
       "    <tr style=\"text-align: right;\">\n",
       "      <th></th>\n",
       "      <th>id</th>\n",
       "      <th>importer_rank</th>\n",
       "      <th>hs_codes</th>\n",
       "      <th>n_months</th>\n",
       "      <th>sum_teu</th>\n",
       "      <th>n_ports</th>\n",
       "      <th>n_origins</th>\n",
       "      <th>major_origin</th>\n",
       "    </tr>\n",
       "  </thead>\n",
       "  <tbody>\n",
       "    <tr>\n",
       "      <th>5748</th>\n",
       "      <td>0c44865e99e1ab426cfcff9689210c82</td>\n",
       "      <td>1</td>\n",
       "      <td>HS CODE 0805 2100</td>\n",
       "      <td>2</td>\n",
       "      <td>4.0</td>\n",
       "      <td>1</td>\n",
       "      <td>1</td>\n",
       "      <td>PERU</td>\n",
       "    </tr>\n",
       "    <tr>\n",
       "      <th>5749</th>\n",
       "      <td>0c44865e99e1ab426cfcff9689210c82</td>\n",
       "      <td>1</td>\n",
       "      <td>HS CODE 0805 2900</td>\n",
       "      <td>6</td>\n",
       "      <td>24.0</td>\n",
       "      <td>2</td>\n",
       "      <td>1</td>\n",
       "      <td>PERU</td>\n",
       "    </tr>\n",
       "    <tr>\n",
       "      <th>5750</th>\n",
       "      <td>0c44865e99e1ab426cfcff9689210c82</td>\n",
       "      <td>1</td>\n",
       "      <td>HS CODE 0805 2990</td>\n",
       "      <td>2</td>\n",
       "      <td>4.0</td>\n",
       "      <td>1</td>\n",
       "      <td>1</td>\n",
       "      <td>PERU</td>\n",
       "    </tr>\n",
       "    <tr>\n",
       "      <th>5751</th>\n",
       "      <td>0c44865e99e1ab426cfcff9689210c82</td>\n",
       "      <td>1</td>\n",
       "      <td>HS CODE 0806 0000</td>\n",
       "      <td>1</td>\n",
       "      <td>4.0</td>\n",
       "      <td>1</td>\n",
       "      <td>1</td>\n",
       "      <td>PERU</td>\n",
       "    </tr>\n",
       "    <tr>\n",
       "      <th>5752</th>\n",
       "      <td>0c44865e99e1ab426cfcff9689210c82</td>\n",
       "      <td>1</td>\n",
       "      <td>HS CODE 0806 1000</td>\n",
       "      <td>4</td>\n",
       "      <td>44.0</td>\n",
       "      <td>3</td>\n",
       "      <td>3</td>\n",
       "      <td>PERU</td>\n",
       "    </tr>\n",
       "    <tr>\n",
       "      <th>5753</th>\n",
       "      <td>0c44865e99e1ab426cfcff9689210c82</td>\n",
       "      <td>1</td>\n",
       "      <td>HS CODE 0808 3000</td>\n",
       "      <td>1</td>\n",
       "      <td>2.0</td>\n",
       "      <td>1</td>\n",
       "      <td>1</td>\n",
       "      <td>ARGENTINA</td>\n",
       "    </tr>\n",
       "    <tr>\n",
       "      <th>780</th>\n",
       "      <td>01e6c36dd58026dca20df67c23babffe</td>\n",
       "      <td>2</td>\n",
       "      <td>HS CODE 8450 9000</td>\n",
       "      <td>1</td>\n",
       "      <td>2.0</td>\n",
       "      <td>1</td>\n",
       "      <td>1</td>\n",
       "      <td>GERMANY</td>\n",
       "    </tr>\n",
       "    <tr>\n",
       "      <th>781</th>\n",
       "      <td>01e6c36dd58026dca20df67c23babffe</td>\n",
       "      <td>2</td>\n",
       "      <td>HS CODE 8481 8000</td>\n",
       "      <td>1</td>\n",
       "      <td>2.0</td>\n",
       "      <td>1</td>\n",
       "      <td>1</td>\n",
       "      <td>CHINA</td>\n",
       "    </tr>\n",
       "    <tr>\n",
       "      <th>782</th>\n",
       "      <td>01e6c36dd58026dca20df67c23babffe</td>\n",
       "      <td>2</td>\n",
       "      <td>HS CODE 8481 8021</td>\n",
       "      <td>11</td>\n",
       "      <td>42.0</td>\n",
       "      <td>1</td>\n",
       "      <td>2</td>\n",
       "      <td>CHINA</td>\n",
       "    </tr>\n",
       "    <tr>\n",
       "      <th>783</th>\n",
       "      <td>01e6c36dd58026dca20df67c23babffe</td>\n",
       "      <td>2</td>\n",
       "      <td>HS CODE 8516 8000</td>\n",
       "      <td>1</td>\n",
       "      <td>2.0</td>\n",
       "      <td>1</td>\n",
       "      <td>1</td>\n",
       "      <td>HONG KONG S.A.R.</td>\n",
       "    </tr>\n",
       "  </tbody>\n",
       "</table>\n",
       "</div>"
      ],
      "text/plain": [
       "                                    id  importer_rank           hs_codes  \\\n",
       "5748  0c44865e99e1ab426cfcff9689210c82              1  HS CODE 0805 2100   \n",
       "5749  0c44865e99e1ab426cfcff9689210c82              1  HS CODE 0805 2900   \n",
       "5750  0c44865e99e1ab426cfcff9689210c82              1  HS CODE 0805 2990   \n",
       "5751  0c44865e99e1ab426cfcff9689210c82              1  HS CODE 0806 0000   \n",
       "5752  0c44865e99e1ab426cfcff9689210c82              1  HS CODE 0806 1000   \n",
       "5753  0c44865e99e1ab426cfcff9689210c82              1  HS CODE 0808 3000   \n",
       "780   01e6c36dd58026dca20df67c23babffe              2  HS CODE 8450 9000   \n",
       "781   01e6c36dd58026dca20df67c23babffe              2  HS CODE 8481 8000   \n",
       "782   01e6c36dd58026dca20df67c23babffe              2  HS CODE 8481 8021   \n",
       "783   01e6c36dd58026dca20df67c23babffe              2  HS CODE 8516 8000   \n",
       "\n",
       "      n_months  sum_teu  n_ports  n_origins      major_origin  \n",
       "5748         2      4.0        1          1              PERU  \n",
       "5749         6     24.0        2          1              PERU  \n",
       "5750         2      4.0        1          1              PERU  \n",
       "5751         1      4.0        1          1              PERU  \n",
       "5752         4     44.0        3          3              PERU  \n",
       "5753         1      2.0        1          1         ARGENTINA  \n",
       "780          1      2.0        1          1           GERMANY  \n",
       "781          1      2.0        1          1             CHINA  \n",
       "782         11     42.0        1          2             CHINA  \n",
       "783          1      2.0        1          1  HONG KONG S.A.R.  "
      ]
     },
     "execution_count": 26,
     "metadata": {},
     "output_type": "execute_result"
    }
   ],
   "source": [
    "importer_activity.sort_values(['importer_rank', 'id']).head(10)"
   ]
  },
  {
   "cell_type": "code",
   "execution_count": 27,
   "id": "3c2d680d",
   "metadata": {},
   "outputs": [],
   "source": [
    "importer_profile = (\n",
    "    main\n",
    "    .sort_values(['id', 'file_month'])\n",
    "    .groupby('id')\n",
    "    .agg(\n",
    "        importer_rank=('importer_rank', 'min'),\n",
    "        n_months=('file_month', 'nunique'),\n",
    "        n_origins=('country_of_origin', 'nunique'),\n",
    "        total_teu=('calculated_teu', 'sum'),\n",
    "        n_goods=('hs_codes', 'nunique'),\n",
    "        n_ports=('port_of_unlading', 'nunique'),\n",
    "        major_origin=('country_of_origin', lambda x: x.value_counts().idxmax()),\n",
    "        major_goods=('hs_codes', lambda x: x.value_counts().idxmax()),\n",
    "        major_port=('port_of_unlading', lambda x: x.value_counts().idxmax()),\n",
    "        biggest_gap=('file_month', lambda x: x.drop_duplicates().diff().max()),\n",
    "        smallest_gap=('file_month', lambda x: x.drop_duplicates().diff().min()),\n",
    "        mean_gap=('file_month', lambda x: x.diff().mean())        \n",
    "    )\n",
    ")"
   ]
  },
  {
   "cell_type": "code",
   "execution_count": 28,
   "id": "65ca632d",
   "metadata": {},
   "outputs": [
    {
     "data": {
      "text/html": [
       "<div>\n",
       "<style scoped>\n",
       "    .dataframe tbody tr th:only-of-type {\n",
       "        vertical-align: middle;\n",
       "    }\n",
       "\n",
       "    .dataframe tbody tr th {\n",
       "        vertical-align: top;\n",
       "    }\n",
       "\n",
       "    .dataframe thead th {\n",
       "        text-align: right;\n",
       "    }\n",
       "</style>\n",
       "<table border=\"1\" class=\"dataframe\">\n",
       "  <thead>\n",
       "    <tr style=\"text-align: right;\">\n",
       "      <th></th>\n",
       "      <th>n_months</th>\n",
       "      <th>n_origins</th>\n",
       "      <th>total_teu</th>\n",
       "      <th>n_goods</th>\n",
       "      <th>n_ports</th>\n",
       "      <th>biggest_gap</th>\n",
       "      <th>smallest_gap</th>\n",
       "      <th>mean_gap</th>\n",
       "      <th>importer_rank</th>\n",
       "    </tr>\n",
       "  </thead>\n",
       "  <tbody>\n",
       "    <tr>\n",
       "      <th>n_months</th>\n",
       "      <td>1.000000</td>\n",
       "      <td>0.497149</td>\n",
       "      <td>0.318408</td>\n",
       "      <td>0.351429</td>\n",
       "      <td>0.602080</td>\n",
       "      <td>-0.678538</td>\n",
       "      <td>-0.663793</td>\n",
       "      <td>-0.614951</td>\n",
       "      <td>-0.102007</td>\n",
       "    </tr>\n",
       "    <tr>\n",
       "      <th>n_origins</th>\n",
       "      <td>0.497149</td>\n",
       "      <td>1.000000</td>\n",
       "      <td>0.327859</td>\n",
       "      <td>0.652627</td>\n",
       "      <td>0.539410</td>\n",
       "      <td>-0.330243</td>\n",
       "      <td>-0.317295</td>\n",
       "      <td>-0.314546</td>\n",
       "      <td>-0.146400</td>\n",
       "    </tr>\n",
       "    <tr>\n",
       "      <th>total_teu</th>\n",
       "      <td>0.318408</td>\n",
       "      <td>0.327859</td>\n",
       "      <td>1.000000</td>\n",
       "      <td>0.469226</td>\n",
       "      <td>0.346194</td>\n",
       "      <td>-0.180367</td>\n",
       "      <td>-0.149354</td>\n",
       "      <td>-0.156796</td>\n",
       "      <td>-0.143154</td>\n",
       "    </tr>\n",
       "    <tr>\n",
       "      <th>n_goods</th>\n",
       "      <td>0.351429</td>\n",
       "      <td>0.652627</td>\n",
       "      <td>0.469226</td>\n",
       "      <td>1.000000</td>\n",
       "      <td>0.361952</td>\n",
       "      <td>-0.211362</td>\n",
       "      <td>-0.185674</td>\n",
       "      <td>-0.193370</td>\n",
       "      <td>-0.103988</td>\n",
       "    </tr>\n",
       "    <tr>\n",
       "      <th>n_ports</th>\n",
       "      <td>0.602080</td>\n",
       "      <td>0.539410</td>\n",
       "      <td>0.346194</td>\n",
       "      <td>0.361952</td>\n",
       "      <td>1.000000</td>\n",
       "      <td>-0.443895</td>\n",
       "      <td>-0.427396</td>\n",
       "      <td>-0.419814</td>\n",
       "      <td>-0.130985</td>\n",
       "    </tr>\n",
       "    <tr>\n",
       "      <th>biggest_gap</th>\n",
       "      <td>-0.678538</td>\n",
       "      <td>-0.330243</td>\n",
       "      <td>-0.180367</td>\n",
       "      <td>-0.211362</td>\n",
       "      <td>-0.443895</td>\n",
       "      <td>1.000000</td>\n",
       "      <td>0.958738</td>\n",
       "      <td>0.854010</td>\n",
       "      <td>0.061419</td>\n",
       "    </tr>\n",
       "    <tr>\n",
       "      <th>smallest_gap</th>\n",
       "      <td>-0.663793</td>\n",
       "      <td>-0.317295</td>\n",
       "      <td>-0.149354</td>\n",
       "      <td>-0.185674</td>\n",
       "      <td>-0.427396</td>\n",
       "      <td>0.958738</td>\n",
       "      <td>1.000000</td>\n",
       "      <td>0.865385</td>\n",
       "      <td>0.047118</td>\n",
       "    </tr>\n",
       "    <tr>\n",
       "      <th>mean_gap</th>\n",
       "      <td>-0.614951</td>\n",
       "      <td>-0.314546</td>\n",
       "      <td>-0.156796</td>\n",
       "      <td>-0.193370</td>\n",
       "      <td>-0.419814</td>\n",
       "      <td>0.854010</td>\n",
       "      <td>0.865385</td>\n",
       "      <td>1.000000</td>\n",
       "      <td>0.065248</td>\n",
       "    </tr>\n",
       "    <tr>\n",
       "      <th>importer_rank</th>\n",
       "      <td>-0.102007</td>\n",
       "      <td>-0.146400</td>\n",
       "      <td>-0.143154</td>\n",
       "      <td>-0.103988</td>\n",
       "      <td>-0.130985</td>\n",
       "      <td>0.061419</td>\n",
       "      <td>0.047118</td>\n",
       "      <td>0.065248</td>\n",
       "      <td>1.000000</td>\n",
       "    </tr>\n",
       "  </tbody>\n",
       "</table>\n",
       "</div>"
      ],
      "text/plain": [
       "               n_months  n_origins  total_teu   n_goods   n_ports  \\\n",
       "n_months       1.000000   0.497149   0.318408  0.351429  0.602080   \n",
       "n_origins      0.497149   1.000000   0.327859  0.652627  0.539410   \n",
       "total_teu      0.318408   0.327859   1.000000  0.469226  0.346194   \n",
       "n_goods        0.351429   0.652627   0.469226  1.000000  0.361952   \n",
       "n_ports        0.602080   0.539410   0.346194  0.361952  1.000000   \n",
       "biggest_gap   -0.678538  -0.330243  -0.180367 -0.211362 -0.443895   \n",
       "smallest_gap  -0.663793  -0.317295  -0.149354 -0.185674 -0.427396   \n",
       "mean_gap      -0.614951  -0.314546  -0.156796 -0.193370 -0.419814   \n",
       "importer_rank -0.102007  -0.146400  -0.143154 -0.103988 -0.130985   \n",
       "\n",
       "               biggest_gap  smallest_gap  mean_gap  importer_rank  \n",
       "n_months         -0.678538     -0.663793 -0.614951      -0.102007  \n",
       "n_origins        -0.330243     -0.317295 -0.314546      -0.146400  \n",
       "total_teu        -0.180367     -0.149354 -0.156796      -0.143154  \n",
       "n_goods          -0.211362     -0.185674 -0.193370      -0.103988  \n",
       "n_ports          -0.443895     -0.427396 -0.419814      -0.130985  \n",
       "biggest_gap       1.000000      0.958738  0.854010       0.061419  \n",
       "smallest_gap      0.958738      1.000000  0.865385       0.047118  \n",
       "mean_gap          0.854010      0.865385  1.000000       0.065248  \n",
       "importer_rank     0.061419      0.047118  0.065248       1.000000  "
      ]
     },
     "execution_count": 28,
     "metadata": {},
     "output_type": "execute_result"
    }
   ],
   "source": [
    "numeric_cols = ['n_months', 'n_origins', 'total_teu',\n",
    "                'n_goods', 'n_ports', 'biggest_gap',\n",
    "                'smallest_gap', 'mean_gap']\n",
    "\n",
    "categorical_cols = ['major_origin', 'major_goods', 'major_port']\n",
    "\n",
    "target = 'importer_rank'\n",
    "\n",
    "importer_profile.fillna(12).sample(3000)[numeric_cols + [target]].corr()"
   ]
  },
  {
   "cell_type": "code",
   "execution_count": 39,
   "id": "dca1ac40",
   "metadata": {},
   "outputs": [
    {
     "ename": "NameError",
     "evalue": "name 'importer_profile' is not defined",
     "output_type": "error",
     "traceback": [
      "\u001b[0;31m---------------------------------------------------------------------------\u001b[0m",
      "\u001b[0;31mNameError\u001b[0m                                 Traceback (most recent call last)",
      "Cell \u001b[0;32mIn[39], line 1\u001b[0m\n\u001b[0;32m----> 1\u001b[0m \u001b[43mimporter_profile\u001b[49m[\u001b[38;5;124m'\u001b[39m\u001b[38;5;124mimporter_rank\u001b[39m\u001b[38;5;124m'\u001b[39m]\u001b[38;5;241m.\u001b[39mhist(\u001b[38;5;241m4\u001b[39m)\n",
      "\u001b[0;31mNameError\u001b[0m: name 'importer_profile' is not defined"
     ]
    }
   ],
   "source": [
    "importer_profile['importer_rank'].hist(4)"
   ]
  },
  {
   "cell_type": "code",
   "execution_count": 30,
   "id": "699581ff",
   "metadata": {},
   "outputs": [
    {
     "ename": "ModuleNotFoundError",
     "evalue": "No module named 'sklearn'",
     "output_type": "error",
     "traceback": [
      "\u001b[0;31m---------------------------------------------------------------------------\u001b[0m",
      "\u001b[0;31mModuleNotFoundError\u001b[0m                       Traceback (most recent call last)",
      "Cell \u001b[0;32mIn[30], line 1\u001b[0m\n\u001b[0;32m----> 1\u001b[0m \u001b[38;5;28;01mfrom\u001b[39;00m \u001b[38;5;21;01msklearn\u001b[39;00m\u001b[38;5;21;01m.\u001b[39;00m\u001b[38;5;21;01mmodel_selection\u001b[39;00m \u001b[38;5;28;01mimport\u001b[39;00m train_test_split\n\u001b[1;32m      2\u001b[0m \u001b[38;5;28;01mfrom\u001b[39;00m \u001b[38;5;21;01mxgboost\u001b[39;00m \u001b[38;5;28;01mimport\u001b[39;00m XGBClassifier\n\u001b[1;32m      3\u001b[0m \u001b[38;5;28;01mfrom\u001b[39;00m \u001b[38;5;21;01msklearn\u001b[39;00m\u001b[38;5;21;01m.\u001b[39;00m\u001b[38;5;21;01mmetrics\u001b[39;00m \u001b[38;5;28;01mimport\u001b[39;00m accuracy_score\n",
      "\u001b[0;31mModuleNotFoundError\u001b[0m: No module named 'sklearn'"
     ]
    }
   ],
   "source": [
    "from sklearn.model_selection import train_test_split\n",
    "from xgboost import XGBClassifier\n",
    "from sklearn.metrics import accuracy_score"
   ]
  },
  {
   "cell_type": "code",
   "execution_count": null,
   "id": "044d4c18",
   "metadata": {},
   "outputs": [],
   "source": [
    "def assign_importer_rank_category(importer_rank_list, thresholds):\n",
    "    # Sort the thresholds in ascending order\n",
    "    thresholds.sort()\n",
    "\n",
    "    # Define category labels based on the number of thresholds\n",
    "    categories = [f'R{i}' for i in range(1, len(thresholds) + 1)]\n",
    "\n",
    "    # Assign categories based on the thresholds\n",
    "    category_series = pd.cut(importer_rank_list, bins=[-float('inf')] + thresholds + [float('inf')], labels=categories, right=False)\n",
    "\n",
    "    return category_series\n",
    " "
   ]
  },
  {
   "cell_type": "code",
   "execution_count": null,
   "id": "bd960ef7",
   "metadata": {},
   "outputs": [],
   "source": [
    "importer_profile['importer_rank_cate'] = importer_profile['importer_rank'].apply(lambda x : \n",
    "                                                                                0 if x < 500\n",
    "                                                                                else (1 if x < 2000 \n",
    "                                                                                     else (2 if x < 5000 else 3)))\n",
    "\n",
    "importer_profile['importer_rank_cate'].value_counts().plot.bar();"
   ]
  },
  {
   "cell_type": "code",
   "execution_count": null,
   "id": "56084c08",
   "metadata": {
    "scrolled": true
   },
   "outputs": [],
   "source": [
    "import xgboost as xgb\n",
    "\n",
    "# Split the data into train and validation sets\n",
    "train_df, val_df = train_test_split(importer_profile.fillna(12)[numeric_cols + ['importer_rank_cate']], test_size=0.2, random_state=42)\n",
    "\n",
    "# Define features and target for train and validation sets\n",
    "X_train = train_df.drop('importer_rank_cate', axis=1)\n",
    "y_train = train_df['importer_rank_cate']\n",
    "X_val = val_df.drop('importer_rank_cate', axis=1)\n",
    "y_val = val_df['importer_rank_cate']\n",
    "\n",
    "\n",
    "\n",
    "# Define XGBoost parameters\n",
    "params = {\n",
    "    'objective': 'multi:softmax',  # For multi-class classification\n",
    "    'num_class': len(importer_profile['importer_rank_cate'].unique()),  # Number of classes\n",
    "    'eval_metric': 'merror',  # Evaluation metric, you can choose 'mlogloss' for log-likelihood\n",
    "    'eta': 0.1,  # Learning rate\n",
    "    'max_depth': 3,  # Maximum depth of a tree\n",
    "    'subsample': 0.8,  # Subsample ratio of the training instances\n",
    "    'colsample_bytree': 0.8,  # Subsample ratio of columns when constructing each tree\n",
    "    'seed': 42  # Seed for reproducibility\n",
    "}\n",
    "\n",
    "# Convert data to DMatrix format\n",
    "dtrain = xgb.DMatrix(X_train, label=y_train)\n",
    "dval = xgb.DMatrix(X_val, label=y_val)\n",
    "\n",
    "# Train the model\n",
    "num_round = 100  # Number of boosting rounds\n",
    "model = xgb.train(params, dtrain, num_round, evals=[(dval, 'validation')])\n",
    "\n",
    "# Predict on the validation set\n",
    "y_val_pred = model.predict(dval)\n",
    "\n",
    "# Evaluate the accuracy on the validation set\n",
    "accuracy = accuracy_score(y_val, y_val_pred)\n",
    "print(f'Validation Accuracy: {accuracy}')\n"
   ]
  },
  {
   "cell_type": "code",
   "execution_count": null,
   "id": "41bdf761",
   "metadata": {},
   "outputs": [],
   "source": [
    "from sklearn.metrics import recall_score, precision_score"
   ]
  },
  {
   "cell_type": "code",
   "execution_count": null,
   "id": "5d8404c5",
   "metadata": {
    "scrolled": true
   },
   "outputs": [],
   "source": [
    "import xgboost as xgb\n",
    "import hyperopt\n",
    "from hyperopt import fmin, tpe, hp, STATUS_OK, Trials\n",
    "from hyperopt.pyll import scope\n",
    "\n",
    "\n",
    "\n",
    "# Assuming your DataFrame is named 'importer_profile' with 'numeric_cols' and 'importer_rank_cate'\n",
    "\n",
    "# Objective function to minimize (negative accuracy for maximization)\n",
    "def objective(params):\n",
    "    booster = xgb.train(\n",
    "            params=params,\n",
    "            dtrain=dtrain,\n",
    "            num_boost_round=100,\n",
    "            evals=[(dval, 'validation')],\n",
    "            early_stopping_rounds=50\n",
    "        )\n",
    "    \n",
    "    # Predict on the validation set\n",
    "    y_val_pred = model.predict(dval)\n",
    "\n",
    "    # Calculate accuracy\n",
    "    accuracy = precision_score(y_val, y_val_pred, average='micro')\n",
    "\n",
    "    return {'loss': -accuracy, 'status': STATUS_OK}\n",
    "\n",
    "# Define hyperparameter space for hyperopt\n",
    "search_space = {\n",
    "    'objective': 'multi:softmax',\n",
    "    'eta': hp.uniform('eta', 0.01, 0.3),\n",
    "    'learning_rate': hp.loguniform('learning_rate', -4, -1),\n",
    "    'max_depth': scope.int(hp.quniform('max_depth', 3, 10, 1)),\n",
    "    'min_child_weight': hp.loguniform('min_child_weight', -1, 3),\n",
    "    'subsample': hp.uniform('subsample', 0.5, 1),\n",
    "    'colsample_bytree': hp.uniform('colsample_bytree', 0.5, 1),\n",
    "    'num_class': 4\n",
    "    }\n",
    "\n",
    "best_result = fmin(\n",
    "    fn=objective,\n",
    "    space=search_space,\n",
    "    algo=tpe.suggest,\n",
    "    max_evals=50,\n",
    "    trials=Trials()\n",
    ")\n"
   ]
  },
  {
   "cell_type": "code",
   "execution_count": null,
   "id": "23413ad3",
   "metadata": {},
   "outputs": [],
   "source": [
    "best_result"
   ]
  },
  {
   "cell_type": "code",
   "execution_count": null,
   "id": "4d1e9471",
   "metadata": {},
   "outputs": [],
   "source": [
    "# Retrieve the best hyperparameters from the Trials object\n",
    "best_params = hyperopt.space_eval(search_space, best_result)"
   ]
  },
  {
   "cell_type": "code",
   "execution_count": null,
   "id": "d462e4f8",
   "metadata": {
    "scrolled": true
   },
   "outputs": [],
   "source": [
    "# Train the final model with the best hyperparameters\n",
    "best_model = xgb.train(\n",
    "    params=best_params,\n",
    "    dtrain=dtrain, \n",
    "    num_boost_round=100,\n",
    "    evals=[(dval, 'validation')])\n",
    "\n",
    "# Predict on the validation set with the best model\n",
    "y_val_pred_best = best_model.predict(dval)\n",
    "\n",
    "# Evaluate the accuracy on the validation set with the best model\n",
    "accuracy_best = accuracy_score(y_val, y_val_pred_best)\n",
    "print(f'Validation Accuracy with Best Hyperparameters: {accuracy_best}')\n"
   ]
  },
  {
   "cell_type": "code",
   "execution_count": null,
   "id": "81e08f3d",
   "metadata": {},
   "outputs": [],
   "source": [
    "from sklearn.metrics import classification_report, confusion_matrix \n"
   ]
  },
  {
   "cell_type": "code",
   "execution_count": null,
   "id": "14229663",
   "metadata": {},
   "outputs": [],
   "source": [
    "\n",
    "# Convert predicted probabilities to class labels\n",
    "y_val_pred = y_val_pred_best.astype(int)\n",
    "\n",
    "# Generate the classification report\n",
    "report = classification_report(y_val, y_val_pred)"
   ]
  },
  {
   "cell_type": "code",
   "execution_count": null,
   "id": "ac70035d",
   "metadata": {},
   "outputs": [],
   "source": [
    "print(report)"
   ]
  },
  {
   "cell_type": "markdown",
   "id": "92e03b65",
   "metadata": {},
   "source": [
    "    y_va"
   ]
  },
  {
   "cell_type": "code",
   "execution_count": null,
   "id": "194d0345",
   "metadata": {},
   "outputs": [],
   "source": [
    "from sklearn.ensemble import GradientBoostingClassifier\n",
    "\n",
    "\n",
    "# Separate features and target variable\n",
    "X = importer_profile.fillna(12)[numeric_cols+categorical_cols]\n",
    "y = importer_profile['importer_rank_cate']\n",
    "\n",
    "# One-hot encode the categorical column\n",
    "X_encoded = pd.get_dummies(X, columns=categorical_cols)\n",
    "\n",
    "# Split the data into train and validation sets\n",
    "X_train, X_val, y_train, y_val = train_test_split(X_encoded, y, test_size=0.2, random_state=42)\n",
    "\n",
    "    \n",
    "clf = GradientBoostingClassifier(n_estimators=50, learning_rate=1.0,\n",
    "    max_depth=2, random_state=0).fit(X_train, y_train)\n"
   ]
  },
  {
   "cell_type": "code",
   "execution_count": null,
   "id": "52bab09b",
   "metadata": {},
   "outputs": [],
   "source": [
    "y_val_pred = clf.predict(X_val).astype(int)\n",
    "report = classification_report(y_val, y_val_pred)\n",
    "print(report)"
   ]
  },
  {
   "cell_type": "code",
   "execution_count": null,
   "id": "4e7ee997",
   "metadata": {},
   "outputs": [],
   "source": [
    "# Assuming gb_classifier is already trained\n",
    "\n",
    "# Display feature importances\n",
    "feature_importances = clf.feature_importances_\n",
    "feature_names = X_encoded.columns\n",
    "\n",
    "# Create a DataFrame to display the results\n",
    "feature_importance_df = pd.DataFrame({'Feature': feature_names, 'Importance': feature_importances})\n",
    "feature_importance_df = feature_importance_df.sort_values(by='Importance', ascending=False)\n",
    "\n",
    "# Select the top 20 important features\n",
    "top_20_features = feature_importance_df.head(20)\n",
    "\n",
    "# Plot the top 20 feature importances\n",
    "plt.figure(figsize=(10, 6))\n",
    "plt.barh(top_20_features['Feature'], top_20_features['Importance'])\n",
    "plt.xlabel('Importance')\n",
    "plt.ylabel('Feature')\n",
    "plt.title('Top 20 Feature Importance')\n",
    "plt.show()\n"
   ]
  },
  {
   "cell_type": "code",
   "execution_count": null,
   "id": "43451aa4",
   "metadata": {},
   "outputs": [],
   "source": [
    "import pandas as pd\n",
    "import xgboost as xgb\n",
    "from sklearn.ensemble import GradientBoostingClassifier\n",
    "from sklearn.model_selection import train_test_split\n",
    "from sklearn.metrics import accuracy_score\n",
    "from hyperopt import fmin, tpe, hp, STATUS_OK, Trials\n",
    "\n",
    "# Assuming your DataFrame is named 'importer_profile' with 'numeric_cols' and 'categorical_cols'\n",
    "\n",
    "# Separate features and target variable\n",
    "X = importer_profile.fillna(12)[numeric_cols + categorical_cols]\n",
    "y = importer_profile['importer_rank_cate']\n",
    "\n",
    "# One-hot encode the categorical column\n",
    "X_encoded = pd.get_dummies(X, columns=categorical_cols)\n",
    "\n",
    "# Split the data into train and validation sets\n",
    "X_train, X_val, y_train, y_val = train_test_split(X_encoded, y, test_size=0.2, random_state=42)\n",
    "\n",
    "search_space = {\n",
    "    'learning_rate': hp.loguniform('learning_rate', -3, -1),\n",
    "    'max_depth': scope.int(hp.quniform('max_depth', 1, 2, 1)),\n",
    "    'subsample': hp.uniform('subsample', 0.5, 1),\n",
    "    'n_estimators': scope.int(hp.quniform('n_estimators', 10, 30, 1)),\n",
    "    }\n",
    "\n",
    "\n",
    "# Objective function to minimize (negative accuracy for maximization)\n",
    "def objective(params):\n",
    "   # Initialize and train the Gradient Boosting classifier\n",
    "    clf = GradientBoostingClassifier(**params, random_state=0)\n",
    "    clf.fit(X_train, y_train)\n",
    "\n",
    "    # Predict on the validation set\n",
    "    y_val_pred = clf.predict(X_val)\n",
    "\n",
    "    # Calculate accuracy\n",
    "    accuracy = accuracy_score(y_val, y_val_pred)\n",
    "\n",
    "    return {'loss': 1 - accuracy, 'status': STATUS_OK}\n",
    "\n",
    "# Set up Trials object to keep track of results\n",
    "trials = Trials()\n",
    "\n",
    "# Use fmin to find the best hyperparameters\n",
    "best = fmin(fn=objective, space=search_space, algo=tpe.suggest, max_evals=50, trials=trials)\n",
    "\n",
    "# Print the best hyperparameters\n",
    "print(\"Best Hyperparameters:\", best)\n"
   ]
  },
  {
   "cell_type": "code",
   "execution_count": null,
   "id": "4c142fdd",
   "metadata": {},
   "outputs": [],
   "source": [
    "# Retrieve the best hyperparameters from the Trials object\n",
    "best_params = hyperopt.space_eval(search_space, best)\n",
    "\n",
    "# Train the final model with the best hyperparameters\n",
    "best_model = GradientBoostingClassifier(random_state=0, **best_params)\n",
    "best_model.fit(X_train, y_train)\n",
    "\n",
    "# Predict on the validation set with the best model\n",
    "y_val_pred_best = best_model.predict(X_val)\n",
    "\n",
    "# Evaluate the accuracy on the validation set with the best model\n",
    "accuracy_best = accuracy_score(y_val, y_val_pred_best)\n",
    "print(f'Validation Accuracy with Best Hyperparameters: {accuracy_best}')\n"
   ]
  },
  {
   "cell_type": "code",
   "execution_count": null,
   "id": "c5cc8dd7",
   "metadata": {},
   "outputs": [],
   "source": [
    "y_val_pred = best_model.predict(X_val).astype(int)\n",
    "report = classification_report(y_val, y_val_pred)\n",
    "print(report)"
   ]
  },
  {
   "cell_type": "code",
   "execution_count": null,
   "id": "b8713100",
   "metadata": {},
   "outputs": [],
   "source": []
  }
 ],
 "metadata": {
  "kernelspec": {
   "display_name": "nlp",
   "language": "python",
   "name": "nlp"
  },
  "language_info": {
   "codemirror_mode": {
    "name": "ipython",
    "version": 3
   },
   "file_extension": ".py",
   "mimetype": "text/x-python",
   "name": "python",
   "nbconvert_exporter": "python",
   "pygments_lexer": "ipython3",
   "version": "3.9.12"
  },
  "toc": {
   "base_numbering": 1,
   "nav_menu": {},
   "number_sections": true,
   "sideBar": true,
   "skip_h1_title": false,
   "title_cell": "Table of Contents",
   "title_sidebar": "Contents",
   "toc_cell": false,
   "toc_position": {
    "height": "calc(100% - 180px)",
    "left": "10px",
    "top": "150px",
    "width": "380px"
   },
   "toc_section_display": true,
   "toc_window_display": true
  }
 },
 "nbformat": 4,
 "nbformat_minor": 5
}
