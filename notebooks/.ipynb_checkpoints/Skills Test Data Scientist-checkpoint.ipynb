{
 "cells": [
  {
   "cell_type": "markdown",
   "id": "9a521ff8",
   "metadata": {},
   "source": [
    "This is my solution for the skill test"
   ]
  },
  {
   "cell_type": "code",
   "execution_count": 1,
   "id": "8c04731a",
   "metadata": {},
   "outputs": [],
   "source": [
    "import pandas as pd\n",
    "import os\n",
    "from utils.loadgenius import DataLoader\n",
    "\n",
    "os.sys.path.append('./..')\n",
    "dl = DataLoader('./../catalog.yml')"
   ]
  },
  {
   "cell_type": "code",
   "execution_count": 15,
   "id": "64b95bff",
   "metadata": {},
   "outputs": [
    {
     "data": {
      "text/plain": [
       "['importer_normalized_data', 'main', 'ports']"
      ]
     },
     "execution_count": 15,
     "metadata": {},
     "output_type": "execute_result"
    }
   ],
   "source": [
    "dl.list_datasets()"
   ]
  },
  {
   "cell_type": "code",
   "execution_count": 45,
   "id": "e8d0895a",
   "metadata": {},
   "outputs": [],
   "source": [
    "ports = dl.load('ports').drop('Unnamed: 0', axis=1)\n",
    "main = dl.load('main').drop('Unnamed: 0', axis=1)\n",
    "importer = dl.load('importer_normalized_data').drop('Unnamed: 0', axis=1)"
   ]
  },
  {
   "cell_type": "markdown",
   "id": "f00ef4f9",
   "metadata": {},
   "source": [
    "# Preprocess\n",
    "\n",
    "## Remove duplicates in ports:"
   ]
  },
  {
   "cell_type": "code",
   "execution_count": 46,
   "id": "a6ff85be",
   "metadata": {},
   "outputs": [
    {
     "name": "stdout",
     "output_type": "stream",
     "text": [
      "ports: Shape before 10927\n",
      "ports: Shape after 5726\n"
     ]
    }
   ],
   "source": [
    "print(\"ports: Shape before\", ports.shape[0])\n",
    "ports = (ports\n",
    "         .drop_duplicates()\n",
    "         .reset_index(drop=True)\n",
    "        )\n",
    "print(\"ports: Shape after\", ports.shape[0])"
   ]
  },
  {
   "cell_type": "code",
   "execution_count": 49,
   "id": "20d3d4fd",
   "metadata": {},
   "outputs": [
    {
     "data": {
      "text/plain": [
       "(46175, 3)"
      ]
     },
     "execution_count": 49,
     "metadata": {},
     "output_type": "execute_result"
    }
   ],
   "source": [
    "importer.shape"
   ]
  },
  {
   "cell_type": "code",
   "execution_count": 51,
   "id": "3fe7b59a",
   "metadata": {},
   "outputs": [
    {
     "data": {
      "text/plain": [
       "(2081670, 6)"
      ]
     },
     "execution_count": 51,
     "metadata": {},
     "output_type": "execute_result"
    }
   ],
   "source": [
    "main.drop_duplicates().shape"
   ]
  },
  {
   "cell_type": "code",
   "execution_count": 52,
   "id": "ff88274e",
   "metadata": {},
   "outputs": [
    {
     "data": {
      "text/plain": [
       "(4158454, 6)"
      ]
     },
     "execution_count": 52,
     "metadata": {},
     "output_type": "execute_result"
    }
   ],
   "source": [
    "main.shape"
   ]
  }
 ],
 "metadata": {
  "kernelspec": {
   "display_name": "genius",
   "language": "python",
   "name": "genius"
  },
  "language_info": {
   "codemirror_mode": {
    "name": "ipython",
    "version": 3
   },
   "file_extension": ".py",
   "mimetype": "text/x-python",
   "name": "python",
   "nbconvert_exporter": "python",
   "pygments_lexer": "ipython3",
   "version": "3.9.12"
  },
  "toc": {
   "base_numbering": 1,
   "nav_menu": {},
   "number_sections": true,
   "sideBar": true,
   "skip_h1_title": false,
   "title_cell": "Table of Contents",
   "title_sidebar": "Contents",
   "toc_cell": false,
   "toc_position": {},
   "toc_section_display": true,
   "toc_window_display": false
  }
 },
 "nbformat": 4,
 "nbformat_minor": 5
}
