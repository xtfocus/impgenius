{
 "cells": [
  {
   "cell_type": "markdown",
   "id": "2c97b2f8",
   "metadata": {},
   "source": [
    "This is my solution for the skill test"
   ]
  },
  {
   "cell_type": "code",
   "execution_count": 1,
   "id": "a96564fe",
   "metadata": {},
   "outputs": [],
   "source": [
    "import pandas as pd\n",
    "import os\n",
    "os.sys.path.append('./..')\n",
    "from utils.loadgenius import DataLoader\n",
    "\n",
    "dl = DataLoader('./../catalog.yml')"
   ]
  },
  {
   "cell_type": "code",
   "execution_count": 2,
   "id": "eafe4729",
   "metadata": {},
   "outputs": [
    {
     "data": {
      "text/plain": [
       "['importer_normalized_data', 'main', 'ports']"
      ]
     },
     "execution_count": 2,
     "metadata": {},
     "output_type": "execute_result"
    }
   ],
   "source": [
    "dl.list_datasets()"
   ]
  },
  {
   "cell_type": "code",
   "execution_count": 3,
   "id": "18abf667",
   "metadata": {},
   "outputs": [],
   "source": [
    "ports = dl.load('ports').drop('Unnamed: 0', axis=1)\n",
    "main = dl.load('main').drop('Unnamed: 0', axis=1)\n",
    "importer = dl.load('importer_normalized_data').drop('Unnamed: 0', axis=1)"
   ]
  },
  {
   "cell_type": "markdown",
   "id": "bb413d3b",
   "metadata": {},
   "source": [
    "# Preprocess\n",
    "\n",
    "## Remove duplicates in ports:"
   ]
  },
  {
   "cell_type": "code",
   "execution_count": 4,
   "id": "f395fb79",
   "metadata": {},
   "outputs": [
    {
     "name": "stdout",
     "output_type": "stream",
     "text": [
      "ports: Shape before 10927\n",
      "ports: Shape after 5726\n"
     ]
    }
   ],
   "source": [
    "print(\"ports: Shape before\", ports.shape[0])\n",
    "ports = (ports\n",
    "         .drop_duplicates()\n",
    "         .reset_index(drop=True)\n",
    "        )\n",
    "print(\"ports: Shape after\", ports.shape[0])"
   ]
  },
  {
   "cell_type": "code",
   "execution_count": 5,
   "id": "f94e86a7",
   "metadata": {},
   "outputs": [
    {
     "data": {
      "text/plain": [
       "(46175, 3)"
      ]
     },
     "execution_count": 5,
     "metadata": {},
     "output_type": "execute_result"
    }
   ],
   "source": [
    "importer.shape"
   ]
  },
  {
   "cell_type": "code",
   "execution_count": 6,
   "id": "3b1a6937",
   "metadata": {},
   "outputs": [
    {
     "data": {
      "text/html": [
       "<div>\n",
       "<style scoped>\n",
       "    .dataframe tbody tr th:only-of-type {\n",
       "        vertical-align: middle;\n",
       "    }\n",
       "\n",
       "    .dataframe tbody tr th {\n",
       "        vertical-align: top;\n",
       "    }\n",
       "\n",
       "    .dataframe thead th {\n",
       "        text-align: right;\n",
       "    }\n",
       "</style>\n",
       "<table border=\"1\" class=\"dataframe\">\n",
       "  <thead>\n",
       "    <tr style=\"text-align: right;\">\n",
       "      <th></th>\n",
       "      <th>port_code</th>\n",
       "      <th>port_name</th>\n",
       "    </tr>\n",
       "  </thead>\n",
       "  <tbody>\n",
       "    <tr>\n",
       "      <th>0</th>\n",
       "      <td>101</td>\n",
       "      <td>Portland, Maine</td>\n",
       "    </tr>\n",
       "    <tr>\n",
       "      <th>1</th>\n",
       "      <td>102</td>\n",
       "      <td>Bangor, Maine</td>\n",
       "    </tr>\n",
       "    <tr>\n",
       "      <th>2</th>\n",
       "      <td>103</td>\n",
       "      <td>Eastport, Maine</td>\n",
       "    </tr>\n",
       "    <tr>\n",
       "      <th>3</th>\n",
       "      <td>104</td>\n",
       "      <td>Jackman, Maine</td>\n",
       "    </tr>\n",
       "    <tr>\n",
       "      <th>4</th>\n",
       "      <td>105</td>\n",
       "      <td>Vanceboro, Maine</td>\n",
       "    </tr>\n",
       "    <tr>\n",
       "      <th>...</th>\n",
       "      <td>...</td>\n",
       "      <td>...</td>\n",
       "    </tr>\n",
       "    <tr>\n",
       "      <th>5721</th>\n",
       "      <td>99920</td>\n",
       "      <td>South Atlantic (Cape Hatteras to Florida)</td>\n",
       "    </tr>\n",
       "    <tr>\n",
       "      <th>5722</th>\n",
       "      <td>99930</td>\n",
       "      <td>Gulf of Mexico</td>\n",
       "    </tr>\n",
       "    <tr>\n",
       "      <th>5723</th>\n",
       "      <td>99940</td>\n",
       "      <td>North Pacific (Alaska, Washington, Oregon)</td>\n",
       "    </tr>\n",
       "    <tr>\n",
       "      <th>5724</th>\n",
       "      <td>99950</td>\n",
       "      <td>South Pacific (California)</td>\n",
       "    </tr>\n",
       "    <tr>\n",
       "      <th>5725</th>\n",
       "      <td>99999</td>\n",
       "      <td>Foreign Trade Zone in USA</td>\n",
       "    </tr>\n",
       "  </tbody>\n",
       "</table>\n",
       "<p>5726 rows × 2 columns</p>\n",
       "</div>"
      ],
      "text/plain": [
       "      port_code                                   port_name\n",
       "0           101                             Portland, Maine\n",
       "1           102                               Bangor, Maine\n",
       "2           103                             Eastport, Maine\n",
       "3           104                              Jackman, Maine\n",
       "4           105                            Vanceboro, Maine\n",
       "...         ...                                         ...\n",
       "5721      99920   South Atlantic (Cape Hatteras to Florida)\n",
       "5722      99930                              Gulf of Mexico\n",
       "5723      99940  North Pacific (Alaska, Washington, Oregon)\n",
       "5724      99950                  South Pacific (California)\n",
       "5725      99999                   Foreign Trade Zone in USA\n",
       "\n",
       "[5726 rows x 2 columns]"
      ]
     },
     "execution_count": 6,
     "metadata": {},
     "output_type": "execute_result"
    }
   ],
   "source": [
    "ports"
   ]
  },
  {
   "cell_type": "code",
   "execution_count": 7,
   "id": "baba838d",
   "metadata": {},
   "outputs": [
    {
     "data": {
      "text/plain": [
       "(2081670, 6)"
      ]
     },
     "execution_count": 7,
     "metadata": {},
     "output_type": "execute_result"
    }
   ],
   "source": [
    "main.drop_duplicates().shape"
   ]
  },
  {
   "cell_type": "code",
   "execution_count": null,
   "id": "b3772015",
   "metadata": {},
   "outputs": [],
   "source": []
  },
  {
   "cell_type": "code",
   "execution_count": 8,
   "id": "42e98cb9",
   "metadata": {},
   "outputs": [
    {
     "data": {
      "text/plain": [
       "(4158454, 6)"
      ]
     },
     "execution_count": 8,
     "metadata": {},
     "output_type": "execute_result"
    }
   ],
   "source": [
    "main.shape"
   ]
  },
  {
   "cell_type": "code",
   "execution_count": 9,
   "id": "9359f36c",
   "metadata": {},
   "outputs": [
    {
     "data": {
      "text/html": [
       "<div>\n",
       "<style scoped>\n",
       "    .dataframe tbody tr th:only-of-type {\n",
       "        vertical-align: middle;\n",
       "    }\n",
       "\n",
       "    .dataframe tbody tr th {\n",
       "        vertical-align: top;\n",
       "    }\n",
       "\n",
       "    .dataframe thead th {\n",
       "        text-align: right;\n",
       "    }\n",
       "</style>\n",
       "<table border=\"1\" class=\"dataframe\">\n",
       "  <thead>\n",
       "    <tr style=\"text-align: right;\">\n",
       "      <th></th>\n",
       "      <th>consignee</th>\n",
       "      <th>calculated_teu</th>\n",
       "      <th>file_month</th>\n",
       "      <th>port_of_unlading</th>\n",
       "      <th>country_of_origin</th>\n",
       "      <th>hs_codes</th>\n",
       "    </tr>\n",
       "  </thead>\n",
       "  <tbody>\n",
       "    <tr>\n",
       "      <th>0</th>\n",
       "      <td>{name=PIOTR KURPINOWICZ, address=26 OLD WELL R...</td>\n",
       "      <td>0.849421</td>\n",
       "      <td>1</td>\n",
       "      <td>4601</td>\n",
       "      <td>POLAND</td>\n",
       "      <td>HS CODE 9905 0000</td>\n",
       "    </tr>\n",
       "    <tr>\n",
       "      <th>1</th>\n",
       "      <td>{name=TRANSOM SYMPHONY OPCO LLC, address=120 L...</td>\n",
       "      <td>1.000000</td>\n",
       "      <td>1</td>\n",
       "      <td>1401</td>\n",
       "      <td>ITALY</td>\n",
       "      <td>HS CODE 3305 9000</td>\n",
       "    </tr>\n",
       "    <tr>\n",
       "      <th>2</th>\n",
       "      <td>{name=VARITILE INC, address=1930 NORTH GREAT S...</td>\n",
       "      <td>2.000000</td>\n",
       "      <td>1</td>\n",
       "      <td>5301</td>\n",
       "      <td>BELGIUM</td>\n",
       "      <td>HS CODE 7308 9059</td>\n",
       "    </tr>\n",
       "    <tr>\n",
       "      <th>3</th>\n",
       "      <td>{name=BSN MEDICAL GMBH, address=400 OLMOS BLVD...</td>\n",
       "      <td>0.035356</td>\n",
       "      <td>1</td>\n",
       "      <td>5301</td>\n",
       "      <td>GERMANY</td>\n",
       "      <td>HS CODE 5806 2000</td>\n",
       "    </tr>\n",
       "    <tr>\n",
       "      <th>4</th>\n",
       "      <td>{name=TRANSGROUP INTERNATIONAL, address=860 DE...</td>\n",
       "      <td>4.000000</td>\n",
       "      <td>1</td>\n",
       "      <td>4601</td>\n",
       "      <td>DENMARK</td>\n",
       "      <td>HS CODE 3920 3000</td>\n",
       "    </tr>\n",
       "  </tbody>\n",
       "</table>\n",
       "</div>"
      ],
      "text/plain": [
       "                                           consignee  calculated_teu  \\\n",
       "0  {name=PIOTR KURPINOWICZ, address=26 OLD WELL R...        0.849421   \n",
       "1  {name=TRANSOM SYMPHONY OPCO LLC, address=120 L...        1.000000   \n",
       "2  {name=VARITILE INC, address=1930 NORTH GREAT S...        2.000000   \n",
       "3  {name=BSN MEDICAL GMBH, address=400 OLMOS BLVD...        0.035356   \n",
       "4  {name=TRANSGROUP INTERNATIONAL, address=860 DE...        4.000000   \n",
       "\n",
       "   file_month  port_of_unlading country_of_origin           hs_codes  \n",
       "0           1              4601            POLAND  HS CODE 9905 0000  \n",
       "1           1              1401             ITALY  HS CODE 3305 9000  \n",
       "2           1              5301           BELGIUM  HS CODE 7308 9059  \n",
       "3           1              5301           GERMANY  HS CODE 5806 2000  \n",
       "4           1              4601           DENMARK  HS CODE 3920 3000  "
      ]
     },
     "execution_count": 9,
     "metadata": {},
     "output_type": "execute_result"
    }
   ],
   "source": [
    "main.head()"
   ]
  },
  {
   "cell_type": "code",
   "execution_count": 10,
   "id": "60b009c1",
   "metadata": {},
   "outputs": [],
   "source": [
    "import re\n",
    "\n",
    "def parse_string_to_dict(input_string):\n",
    "   \n",
    "    # Extract cleaned_address_break_down and id using regular expressions\n",
    "    cleaned_address_breakdown_match = re.search(r'cleaned_address_breakdown=({.*?})', input_string)\n",
    "    id_match = re.search(r'id=([^,]+)', input_string)\n",
    "\n",
    "    if cleaned_address_breakdown_match and id_match:\n",
    "        # Extracted matches\n",
    "        cleaned_address_breakdown_str = cleaned_address_breakdown_match.group(1)\n",
    "        id_value = id_match.group(1)\n",
    "\n",
    "        # Convert cleaned_address_breakdown to a dictionary\n",
    "        cleaned_address_breakdown_dict = dict(item.strip().split('=') for item in cleaned_address_breakdown_str.strip('{}').split(','))\n",
    "\n",
    "        # Create the final result dictionary\n",
    "        result_dict = {\n",
    "            'cleaned_address_breakdown': cleaned_address_breakdown_dict,\n",
    "            'id': id_value\n",
    "        }\n",
    "\n",
    "        return result_dict\n",
    "    else:\n",
    "        print(\"Error: Unable to extract the required information from the input string.\")\n",
    "        return None\n"
   ]
  },
  {
   "cell_type": "code",
   "execution_count": 11,
   "id": "083498ce",
   "metadata": {},
   "outputs": [
    {
     "name": "stdout",
     "output_type": "stream",
     "text": [
      "CPU times: user 33.8 s, sys: 6.91 s, total: 40.7 s\n",
      "Wall time: 58.7 s\n"
     ]
    }
   ],
   "source": [
    "%%time\n",
    "import multiprocessing as mp\n",
    "\n",
    "params = (i for i in list(main['consignee']))\n",
    "\n",
    "with mp.Pool() as pool:\n",
    "    result = pool.map(parse_string_to_dict, params)"
   ]
  },
  {
   "cell_type": "code",
   "execution_count": 13,
   "id": "6d41f21a",
   "metadata": {},
   "outputs": [],
   "source": [
    "main['extracted'] = result"
   ]
  }
 ],
 "metadata": {
  "kernelspec": {
   "display_name": "nlp",
   "language": "python",
   "name": "nlp"
  },
  "language_info": {
   "codemirror_mode": {
    "name": "ipython",
    "version": 3
   },
   "file_extension": ".py",
   "mimetype": "text/x-python",
   "name": "python",
   "nbconvert_exporter": "python",
   "pygments_lexer": "ipython3",
   "version": "3.9.12"
  },
  "toc": {
   "base_numbering": 1,
   "nav_menu": {},
   "number_sections": true,
   "sideBar": true,
   "skip_h1_title": false,
   "title_cell": "Table of Contents",
   "title_sidebar": "Contents",
   "toc_cell": false,
   "toc_position": {},
   "toc_section_display": true,
   "toc_window_display": false
  }
 },
 "nbformat": 4,
 "nbformat_minor": 5
}
